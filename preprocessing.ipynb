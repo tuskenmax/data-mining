{
 "cells": [
  {
   "cell_type": "markdown",
   "metadata": {
    "cell_id": "260ab249593a43b7b6e55bb0fef946b3",
    "deepnote_cell_height": 2002,
    "deepnote_cell_type": "markdown",
    "tags": []
   },
   "source": [
    "# Data validation & cleaning\n",
    "\n",
    "In short, the main task is to clean The Metropolitan Museum of Art Open Access dataset."
   ]
  },
  {
   "cell_type": "code",
   "execution_count": 1,
   "metadata": {
    "cell_id": "ed43ace9ad2e47459bd752a214ada334",
    "deepnote_cell_height": 76,
    "deepnote_cell_type": "code",
    "deepnote_to_be_reexecuted": false,
    "execution_millis": 43,
    "execution_start": 1662743365252,
    "source_hash": "9e2da255",
    "tags": []
   },
   "outputs": [],
   "source": [
    "import pandas as pd\n",
    "import numpy as np\n",
    "import matplotlib.pyplot as plt"
   ]
  },
  {
   "cell_type": "markdown",
   "metadata": {},
   "source": [
    "## Step 1 - load dataset"
   ]
  },
  {
   "cell_type": "code",
   "execution_count": 2,
   "metadata": {},
   "outputs": [
    {
     "name": "stderr",
     "output_type": "stream",
     "text": [
      "C:\\Users\\mackm\\AppData\\Local\\Temp\\ipykernel_17944\\1151200316.py:1: DtypeWarning: Columns (5,7,10,11,12,13,14,34,35,36,37,38,39,40,41,42,43,44,45,46) have mixed types. Specify dtype option on import or set low_memory=False.\n",
      "  df = pd.read_csv(r\"C:\\Users\\mackm\\OneDrive\\Рабочий стол\\ČVUT\\PDD\\MetObjects.csv\")\n"
     ]
    }
   ],
   "source": [
    "df = pd.read_csv(\"./MetObjects.csv\")"
   ]
  },
  {
   "cell_type": "code",
   "execution_count": 3,
   "metadata": {},
   "outputs": [
    {
     "data": {
      "text/html": [
       "<div>\n",
       "<style scoped>\n",
       "    .dataframe tbody tr th:only-of-type {\n",
       "        vertical-align: middle;\n",
       "    }\n",
       "\n",
       "    .dataframe tbody tr th {\n",
       "        vertical-align: top;\n",
       "    }\n",
       "\n",
       "    .dataframe thead th {\n",
       "        text-align: right;\n",
       "    }\n",
       "</style>\n",
       "<table border=\"1\" class=\"dataframe\">\n",
       "  <thead>\n",
       "    <tr style=\"text-align: right;\">\n",
       "      <th></th>\n",
       "      <th>Object Number</th>\n",
       "      <th>Is Highlight</th>\n",
       "      <th>Is Timeline Work</th>\n",
       "      <th>Is Public Domain</th>\n",
       "      <th>Object ID</th>\n",
       "      <th>Gallery Number</th>\n",
       "      <th>Department</th>\n",
       "      <th>AccessionYear</th>\n",
       "      <th>Object Name</th>\n",
       "      <th>Title</th>\n",
       "      <th>...</th>\n",
       "      <th>River</th>\n",
       "      <th>Classification</th>\n",
       "      <th>Rights and Reproduction</th>\n",
       "      <th>Link Resource</th>\n",
       "      <th>Object Wikidata URL</th>\n",
       "      <th>Metadata Date</th>\n",
       "      <th>Repository</th>\n",
       "      <th>Tags</th>\n",
       "      <th>Tags AAT URL</th>\n",
       "      <th>Tags Wikidata URL</th>\n",
       "    </tr>\n",
       "  </thead>\n",
       "  <tbody>\n",
       "    <tr>\n",
       "      <th>0</th>\n",
       "      <td>1979.486.1</td>\n",
       "      <td>False</td>\n",
       "      <td>False</td>\n",
       "      <td>False</td>\n",
       "      <td>1</td>\n",
       "      <td>NaN</td>\n",
       "      <td>The American Wing</td>\n",
       "      <td>1979.0</td>\n",
       "      <td>Coin</td>\n",
       "      <td>One-dollar Liberty Head Coin</td>\n",
       "      <td>...</td>\n",
       "      <td>NaN</td>\n",
       "      <td>NaN</td>\n",
       "      <td>NaN</td>\n",
       "      <td>http://www.metmuseum.org/art/collection/search/1</td>\n",
       "      <td>NaN</td>\n",
       "      <td>NaN</td>\n",
       "      <td>Metropolitan Museum of Art, New York, NY</td>\n",
       "      <td>NaN</td>\n",
       "      <td>NaN</td>\n",
       "      <td>NaN</td>\n",
       "    </tr>\n",
       "    <tr>\n",
       "      <th>1</th>\n",
       "      <td>1980.264.5</td>\n",
       "      <td>False</td>\n",
       "      <td>False</td>\n",
       "      <td>False</td>\n",
       "      <td>2</td>\n",
       "      <td>NaN</td>\n",
       "      <td>The American Wing</td>\n",
       "      <td>1980.0</td>\n",
       "      <td>Coin</td>\n",
       "      <td>Ten-dollar Liberty Head Coin</td>\n",
       "      <td>...</td>\n",
       "      <td>NaN</td>\n",
       "      <td>NaN</td>\n",
       "      <td>NaN</td>\n",
       "      <td>http://www.metmuseum.org/art/collection/search/2</td>\n",
       "      <td>NaN</td>\n",
       "      <td>NaN</td>\n",
       "      <td>Metropolitan Museum of Art, New York, NY</td>\n",
       "      <td>NaN</td>\n",
       "      <td>NaN</td>\n",
       "      <td>NaN</td>\n",
       "    </tr>\n",
       "    <tr>\n",
       "      <th>2</th>\n",
       "      <td>67.265.9</td>\n",
       "      <td>False</td>\n",
       "      <td>False</td>\n",
       "      <td>False</td>\n",
       "      <td>3</td>\n",
       "      <td>NaN</td>\n",
       "      <td>The American Wing</td>\n",
       "      <td>1967.0</td>\n",
       "      <td>Coin</td>\n",
       "      <td>Two-and-a-Half Dollar Coin</td>\n",
       "      <td>...</td>\n",
       "      <td>NaN</td>\n",
       "      <td>NaN</td>\n",
       "      <td>NaN</td>\n",
       "      <td>http://www.metmuseum.org/art/collection/search/3</td>\n",
       "      <td>NaN</td>\n",
       "      <td>NaN</td>\n",
       "      <td>Metropolitan Museum of Art, New York, NY</td>\n",
       "      <td>NaN</td>\n",
       "      <td>NaN</td>\n",
       "      <td>NaN</td>\n",
       "    </tr>\n",
       "  </tbody>\n",
       "</table>\n",
       "<p>3 rows × 54 columns</p>\n",
       "</div>"
      ],
      "text/plain": [
       "  Object Number  Is Highlight  Is Timeline Work  Is Public Domain  Object ID  \\\n",
       "0    1979.486.1         False             False             False          1   \n",
       "1    1980.264.5         False             False             False          2   \n",
       "2      67.265.9         False             False             False          3   \n",
       "\n",
       "  Gallery Number         Department AccessionYear Object Name  \\\n",
       "0            NaN  The American Wing        1979.0        Coin   \n",
       "1            NaN  The American Wing        1980.0        Coin   \n",
       "2            NaN  The American Wing        1967.0        Coin   \n",
       "\n",
       "                          Title  ... River Classification  \\\n",
       "0  One-dollar Liberty Head Coin  ...   NaN            NaN   \n",
       "1  Ten-dollar Liberty Head Coin  ...   NaN            NaN   \n",
       "2    Two-and-a-Half Dollar Coin  ...   NaN            NaN   \n",
       "\n",
       "  Rights and Reproduction                                     Link Resource  \\\n",
       "0                     NaN  http://www.metmuseum.org/art/collection/search/1   \n",
       "1                     NaN  http://www.metmuseum.org/art/collection/search/2   \n",
       "2                     NaN  http://www.metmuseum.org/art/collection/search/3   \n",
       "\n",
       "  Object Wikidata URL Metadata Date                                Repository  \\\n",
       "0                 NaN           NaN  Metropolitan Museum of Art, New York, NY   \n",
       "1                 NaN           NaN  Metropolitan Museum of Art, New York, NY   \n",
       "2                 NaN           NaN  Metropolitan Museum of Art, New York, NY   \n",
       "\n",
       "  Tags Tags AAT URL Tags Wikidata URL  \n",
       "0  NaN          NaN               NaN  \n",
       "1  NaN          NaN               NaN  \n",
       "2  NaN          NaN               NaN  \n",
       "\n",
       "[3 rows x 54 columns]"
      ]
     },
     "execution_count": 3,
     "metadata": {},
     "output_type": "execute_result"
    }
   ],
   "source": [
    "# check if the dataset loaded correctly\n",
    "\n",
    "df.head(3)"
   ]
  },
  {
   "cell_type": "code",
   "execution_count": 4,
   "metadata": {},
   "outputs": [],
   "source": [
    "# set display options to view all the columns and not more than a 1000 rows\n",
    "\n",
    "pd.set_option('display.max_columns', 54)\n",
    "pd.set_option('display.max_rows', 1000)"
   ]
  },
  {
   "cell_type": "markdown",
   "metadata": {},
   "source": [
    "## Step 2 - check consistency"
   ]
  },
  {
   "cell_type": "code",
   "execution_count": 5,
   "metadata": {},
   "outputs": [
    {
     "name": "stdout",
     "output_type": "stream",
     "text": [
      "Index(['Object Number', 'Is Highlight', 'Is Timeline Work', 'Is Public Domain',\n",
      "       'Object ID', 'Gallery Number', 'Department', 'AccessionYear',\n",
      "       'Object Name', 'Title', 'Culture', 'Period', 'Dynasty', 'Reign',\n",
      "       'Portfolio', 'Constituent ID', 'Artist Role', 'Artist Prefix',\n",
      "       'Artist Display Name', 'Artist Display Bio', 'Artist Suffix',\n",
      "       'Artist Alpha Sort', 'Artist Nationality', 'Artist Begin Date',\n",
      "       'Artist End Date', 'Artist Gender', 'Artist ULAN URL',\n",
      "       'Artist Wikidata URL', 'Object Date', 'Object Begin Date',\n",
      "       'Object End Date', 'Medium', 'Dimensions', 'Credit Line',\n",
      "       'Geography Type', 'City', 'State', 'County', 'Country', 'Region',\n",
      "       'Subregion', 'Locale', 'Locus', 'Excavation', 'River', 'Classification',\n",
      "       'Rights and Reproduction', 'Link Resource', 'Object Wikidata URL',\n",
      "       'Metadata Date', 'Repository', 'Tags', 'Tags AAT URL',\n",
      "       'Tags Wikidata URL'],\n",
      "      dtype='object')\n",
      "Object Number               object\n",
      "Is Highlight                  bool\n",
      "Is Timeline Work              bool\n",
      "Is Public Domain              bool\n",
      "Object ID                    int64\n",
      "Gallery Number              object\n",
      "Department                  object\n",
      "AccessionYear               object\n",
      "Object Name                 object\n",
      "Title                       object\n",
      "Culture                     object\n",
      "Period                      object\n",
      "Dynasty                     object\n",
      "Reign                       object\n",
      "Portfolio                   object\n",
      "Constituent ID              object\n",
      "Artist Role                 object\n",
      "Artist Prefix               object\n",
      "Artist Display Name         object\n",
      "Artist Display Bio          object\n",
      "Artist Suffix               object\n",
      "Artist Alpha Sort           object\n",
      "Artist Nationality          object\n",
      "Artist Begin Date           object\n",
      "Artist End Date             object\n",
      "Artist Gender               object\n",
      "Artist ULAN URL             object\n",
      "Artist Wikidata URL         object\n",
      "Object Date                 object\n",
      "Object Begin Date            int64\n",
      "Object End Date              int64\n",
      "Medium                      object\n",
      "Dimensions                  object\n",
      "Credit Line                 object\n",
      "Geography Type              object\n",
      "City                        object\n",
      "State                       object\n",
      "County                      object\n",
      "Country                     object\n",
      "Region                      object\n",
      "Subregion                   object\n",
      "Locale                      object\n",
      "Locus                       object\n",
      "Excavation                  object\n",
      "River                       object\n",
      "Classification              object\n",
      "Rights and Reproduction     object\n",
      "Link Resource               object\n",
      "Object Wikidata URL         object\n",
      "Metadata Date              float64\n",
      "Repository                  object\n",
      "Tags                        object\n",
      "Tags AAT URL                object\n",
      "Tags Wikidata URL           object\n",
      "dtype: object\n"
     ]
    }
   ],
   "source": [
    "# Check the main characteristics of the dataset\n",
    "\n",
    "print(df.columns)\n",
    "print(df.dtypes)"
   ]
  },
  {
   "cell_type": "code",
   "execution_count": 6,
   "metadata": {},
   "outputs": [
    {
     "name": "stdout",
     "output_type": "stream",
     "text": [
      "<class 'pandas.core.frame.DataFrame'>\n",
      "RangeIndex: 484956 entries, 0 to 484955\n",
      "Data columns (total 54 columns):\n",
      " #   Column                   Non-Null Count   Dtype  \n",
      "---  ------                   --------------   -----  \n",
      " 0   Object Number            484956 non-null  object \n",
      " 1   Is Highlight             484956 non-null  bool   \n",
      " 2   Is Timeline Work         484956 non-null  bool   \n",
      " 3   Is Public Domain         484956 non-null  bool   \n",
      " 4   Object ID                484956 non-null  int64  \n",
      " 5   Gallery Number           49541 non-null   object \n",
      " 6   Department               484956 non-null  object \n",
      " 7   AccessionYear            481094 non-null  object \n",
      " 8   Object Name              482690 non-null  object \n",
      " 9   Title                    456153 non-null  object \n",
      " 10  Culture                  208190 non-null  object \n",
      " 11  Period                   91143 non-null   object \n",
      " 12  Dynasty                  23201 non-null   object \n",
      " 13  Reign                    11236 non-null   object \n",
      " 14  Portfolio                26514 non-null   object \n",
      " 15  Constituent ID           282513 non-null  object \n",
      " 16  Artist Role              282513 non-null  object \n",
      " 17  Artist Prefix            282513 non-null  object \n",
      " 18  Artist Display Name      282513 non-null  object \n",
      " 19  Artist Display Bio       280423 non-null  object \n",
      " 20  Artist Suffix            282465 non-null  object \n",
      " 21  Artist Alpha Sort        282513 non-null  object \n",
      " 22  Artist Nationality       282513 non-null  object \n",
      " 23  Artist Begin Date        282513 non-null  object \n",
      " 24  Artist End Date          282513 non-null  object \n",
      " 25  Artist Gender            106482 non-null  object \n",
      " 26  Artist ULAN URL          227441 non-null  object \n",
      " 27  Artist Wikidata URL      224202 non-null  object \n",
      " 28  Object Date              471525 non-null  object \n",
      " 29  Object Begin Date        484956 non-null  int64  \n",
      " 30  Object End Date          484956 non-null  int64  \n",
      " 31  Medium                   477741 non-null  object \n",
      " 32  Dimensions               409898 non-null  object \n",
      " 33  Credit Line              484305 non-null  object \n",
      " 34  Geography Type           59959 non-null   object \n",
      " 35  City                     32754 non-null   object \n",
      " 36  State                    2621 non-null    object \n",
      " 37  County                   8559 non-null    object \n",
      " 38  Country                  76007 non-null   object \n",
      " 39  Region                   31500 non-null   object \n",
      " 40  Subregion                22143 non-null   object \n",
      " 41  Locale                   15739 non-null   object \n",
      " 42  Locus                    7518 non-null    object \n",
      " 43  Excavation               16571 non-null   object \n",
      " 44  River                    2092 non-null    object \n",
      " 45  Classification           406239 non-null  object \n",
      " 46  Rights and Reproduction  24529 non-null   object \n",
      " 47  Link Resource            484956 non-null  object \n",
      " 48  Object Wikidata URL      69154 non-null   object \n",
      " 49  Metadata Date            0 non-null       float64\n",
      " 50  Repository               484956 non-null  object \n",
      " 51  Tags                     192455 non-null  object \n",
      " 52  Tags AAT URL             192455 non-null  object \n",
      " 53  Tags Wikidata URL        192455 non-null  object \n",
      "dtypes: bool(3), float64(1), int64(3), object(47)\n",
      "memory usage: 190.1+ MB\n"
     ]
    }
   ],
   "source": [
    "# check basic info about the dataset\n",
    "\n",
    "df.info()"
   ]
  },
  {
   "cell_type": "code",
   "execution_count": 7,
   "metadata": {},
   "outputs": [
    {
     "data": {
      "text/plain": [
       "Object Number                   0\n",
       "Is Highlight                    0\n",
       "Is Timeline Work                0\n",
       "Is Public Domain                0\n",
       "Object ID                       0\n",
       "Gallery Number             435415\n",
       "Department                      0\n",
       "AccessionYear                3862\n",
       "Object Name                  2266\n",
       "Title                       28803\n",
       "Culture                    276766\n",
       "Period                     393813\n",
       "Dynasty                    461755\n",
       "Reign                      473720\n",
       "Portfolio                  458442\n",
       "Constituent ID             202443\n",
       "Artist Role                202443\n",
       "Artist Prefix              202443\n",
       "Artist Display Name        202443\n",
       "Artist Display Bio         204533\n",
       "Artist Suffix              202491\n",
       "Artist Alpha Sort          202443\n",
       "Artist Nationality         202443\n",
       "Artist Begin Date          202443\n",
       "Artist End Date            202443\n",
       "Artist Gender              378474\n",
       "Artist ULAN URL            257515\n",
       "Artist Wikidata URL        260754\n",
       "Object Date                 13431\n",
       "Object Begin Date               0\n",
       "Object End Date                 0\n",
       "Medium                       7215\n",
       "Dimensions                  75058\n",
       "Credit Line                   651\n",
       "Geography Type             424997\n",
       "City                       452202\n",
       "State                      482335\n",
       "County                     476397\n",
       "Country                    408949\n",
       "Region                     453456\n",
       "Subregion                  462813\n",
       "Locale                     469217\n",
       "Locus                      477438\n",
       "Excavation                 468385\n",
       "River                      482864\n",
       "Classification              78717\n",
       "Rights and Reproduction    460427\n",
       "Link Resource                   0\n",
       "Object Wikidata URL        415802\n",
       "Metadata Date              484956\n",
       "Repository                      0\n",
       "Tags                       292501\n",
       "Tags AAT URL               292501\n",
       "Tags Wikidata URL          292501\n",
       "dtype: int64"
      ]
     },
     "execution_count": 7,
     "metadata": {},
     "output_type": "execute_result"
    }
   ],
   "source": [
    "# how many NaN values are there?\n",
    "\n",
    "df.isna().sum()"
   ]
  },
  {
   "cell_type": "markdown",
   "metadata": {},
   "source": [
    "Some features are not fully represented - e.g. have missing (NaN) values. It is reasonable to expect problems in these features.\n",
    "3 features are chosen: ['Object Name', '']"
   ]
  },
  {
   "cell_type": "code",
   "execution_count": 8,
   "metadata": {},
   "outputs": [
    {
     "data": {
      "text/plain": [
       "array(['Coin', 'Peso', 'Centavos', 'Pesos', 'Bust', 'Clock', 'Vase',\n",
       "       'Side Chair', 'Figure', 'Advertisement', 'Ale glass', 'Andiron',\n",
       "       'Apothecary jar', 'Statuette', 'Frame', 'Architectural elements',\n",
       "       'Loggia elements', 'Bedroom', 'Argand lamp', 'Lamp shade',\n",
       "       'Armchair', 'Banister-back armchair', 'Drawing',\n",
       "       'Slat-back armchair', 'Spindle-back armchair', 'Teapot',\n",
       "       'Rocking chair', 'Reclining armchair', 'Folding armchair',\n",
       "       'Side chair', 'Revolving armchair', 'Furniture hardware',\n",
       "       'Astral lamp', 'Window', 'Aviary', \"Baby's bottle\", 'Badge',\n",
       "       'Baking dish', 'Balcony', 'Ball', 'Wall panel', 'Baluster',\n",
       "       'Banjo clock', 'Bank', 'Baptismal basin', 'Baptismal bowl',\n",
       "       'Baptismal certificate', 'Bottle', 'Mug', 'Keg'], dtype=object)"
      ]
     },
     "execution_count": 8,
     "metadata": {},
     "output_type": "execute_result"
    }
   ],
   "source": [
    "# display the first 50 unique entries of the feature 'Object Name'\n",
    "\n",
    "df['Object Name'].unique()[:50]"
   ]
  },
  {
   "cell_type": "markdown",
   "metadata": {},
   "source": [
    "The types of objects apppear to be written by people, as types ['Coin', 'Peso', 'Pesos'], ['Slat-back armchair', 'Spindle-back armchair', 'Reclining armchair', 'Folding armchair', 'Side chair', 'Revolving armchair'] and many others appear to intend the same meaning.\n",
    "As the given data in created by humans and written in a natural language - in this case - English, it seems obvious to use basic NLP techniques to clean the data - bring all those fearures in clusters by meaning.\n",
    "The implementation and methods will be the following:\n",
    "1) Removing all punctuation and signs, making all the words lowercase\n",
    "2) Removing stop-words\n",
    "3) Creating n-gramms (the size can be defined with basic cross-validation) - tokenizing\n",
    "4) Lemmatization\n",
    "5) Choosing the appropriate vectorizer - Count Vectorizer/TF-IDF/basic IDF\n",
    "6) Classification of the vectors (words) - using K-Means or some other technique"
   ]
  },
  {
   "cell_type": "code",
   "execution_count": 9,
   "metadata": {},
   "outputs": [
    {
     "data": {
      "text/plain": [
       "array(['One-dollar Liberty Head Coin', 'Ten-dollar Liberty Head Coin',\n",
       "       'Two-and-a-Half Dollar Coin',\n",
       "       'Two-and-a-half-dollar Indian Head Coin',\n",
       "       'Two-and-a-half-dollar Liberty Head Coin',\n",
       "       'Twenty-dollar Liberty Head Coin', 'Five-dollar Indian Head Coin',\n",
       "       'Five-dollar Liberty Head Coin', 'Coin, 1/2 Real',\n",
       "       'Coin, 1/4 Peso', 'Coin, 1/4 Real', 'Coin, 10 Centavos',\n",
       "       'Coin, 20 Pesos', 'Bust of Abraham Lincoln', 'Acorn Clock',\n",
       "       'The Adams Vase', 'Side Chair', 'Figure of Admiral George Rodney',\n",
       "       'Figure of Admiral Samuel Hood',\n",
       "       'Advertisement for Norwich Stone Ware Factory', 'Ale Glass',\n",
       "       'Andiron', 'Apothecary Jar', 'Figure of an Apple',\n",
       "       'Statuette: Arab Waiter and Tray', 'Frame',\n",
       "       'Architectural Elements',\n",
       "       'Architectural elements from Halsted House, Rye, New York',\n",
       "       'Architectural Elements from Laurelton Hall, Oyster Bay, New York',\n",
       "       'Architectural elements from a Retiring Room in the North Family Dwelling American, New Lebanon, New York',\n",
       "       'Argand lamp', 'Argand Lamp', 'Lamp Shade',\n",
       "       'Three-legged Armchair', 'Turned Armchair',\n",
       "       'Banister-back armchair', 'Armchair',\n",
       "       'Heads and Feet of Two Javanese Dancers (from Sketchbook of Javanese Dancers)',\n",
       "       'Slat-back armchair', 'Cane armchair', 'Spindle-back armchair',\n",
       "       'Leather armchair', 'Turned armchair',\n",
       "       'Hunting Birds, after Egyptian Relief Sculpture (from Scrapbook)',\n",
       "       'Splat-back armchair', 'Teapot', 'Rocking Chair',\n",
       "       'Reclining Armchair', 'Folding Armchair', 'Side chair'],\n",
       "      dtype=object)"
      ]
     },
     "execution_count": 9,
     "metadata": {},
     "output_type": "execute_result"
    }
   ],
   "source": [
    "# second 'suspicious' feature of choice is 'Title', let's check what is inside\n",
    "\n",
    "df['Title'].unique()[:50]"
   ]
  },
  {
   "cell_type": "markdown",
   "metadata": {},
   "source": [
    "As the given unique values are also seemingly groupable by their meaning - we can divide them into clusters. ['One-dollar Liberty Head Coin', 'Ten-dollar Liberty Head Coin',\n",
    "'Two-and-a-Half Dollar Coin', 'Two-and-a-half-dollar Indian Head Coin', 'Two-and-a-half-dollar Liberty Head Coin'] - these obviously have a close meaning hence the same NLP techniques can be used to classify the inconsistent data and make fewer labels."
   ]
  },
  {
   "cell_type": "code",
   "execution_count": 10,
   "metadata": {},
   "outputs": [
    {
     "data": {
      "text/plain": [
       "array(['American', nan, 'American| ', 'French', 'American|American', ' ',\n",
       "       'German (Stuttgart, principality of Württemberg)',\n",
       "       'American, born Scotland', ' |American',\n",
       "       'American|American|American',\n",
       "       'American|American|American|American|American', ' | ', 'Italian',\n",
       "       'British', 'British| ', 'American|British', 'British|American',\n",
       "       'American|American, born England', 'American, born Japan|American',\n",
       "       ' | |American|American', 'American|American| ',\n",
       "       'American, born Germany', 'British, Scottish', 'Italian|British',\n",
       "       'American, born Scotland|American',\n",
       "       'American|American, born Scotland', 'American| | ',\n",
       "       'American| |American', ' | |American', ' |American|American',\n",
       "       'German', 'British|British', 'Dutch| ', ' |Dutch',\n",
       "       'French|American', 'American|American and French', ' |German',\n",
       "       'German (Prussian)', 'American, born Germany|American',\n",
       "       ' |British', 'French|French', 'American, born Lithuania',\n",
       "       'American, born England', 'French|British, Scottish', 'Mexican',\n",
       "       'American, born England|American',\n",
       "       'American|American, born Russian Empire [now Ukraine]',\n",
       "       'British|American|American',\n",
       "       'American|American and French|American', 'Belgian'], dtype=object)"
      ]
     },
     "execution_count": 10,
     "metadata": {},
     "output_type": "execute_result"
    }
   ],
   "source": [
    "# trird 'suspicious' feature of choice is 'Title', let's check what is inside\n",
    "\n",
    "df['Artist Nationality'].unique()[:50]"
   ]
  },
  {
   "cell_type": "markdown",
   "metadata": {},
   "source": [
    "Most of the given entries are duplicates of the same information - ['American|American|American','American|American|American|American|American']. The easy solution will be to remove all duplicates, in cases like ['American|American, born England'] we can check if after deleting all duplicates the entry [A, born E] is popular. If yes, we create a separate feature off of it. If not, we can just leave out [A] or [E] after evaluating what is more important. (I would drop the place of birth)"
   ]
  },
  {
   "cell_type": "markdown",
   "metadata": {},
   "source": [
    "## Step 3 - check integrity"
   ]
  },
  {
   "cell_type": "markdown",
   "metadata": {},
   "source": [
    "City and coutry features of a single object should be corresponding, e.g. if we find an object made in London and Sweden, the criterion of integrity is not satisfied as London is not Sweden\n"
   ]
  },
  {
   "cell_type": "code",
   "execution_count": 11,
   "metadata": {},
   "outputs": [
    {
     "data": {
      "text/plain": [
       "array([nan, 'Philadelphia', 'Bristol', 'New York', 'Lebanon', 'Norwich',\n",
       "       'East Cambridge', 'Somerville', 'Boston', 'Delft', 'Meriden',\n",
       "       'Rye', 'Oyster Bay', 'New Lebanon', 'London', 'Portsmouth',\n",
       "       'Boston|Philadelphia', 'Boston|Charlestown', 'Lititz', 'Chicago',\n",
       "       'Wakefield', 'Portland', 'Salem', 'Newark', 'New York|Paris',\n",
       "       'Bennington', 'Hartford', 'Paris', 'Petersburg', 'Alexandria',\n",
       "       'Concord', 'Sandwich', 'Pittsburgh', 'Strasburg', 'Middletown',\n",
       "       'Baltimore', 'Providence', 'Preston', 'Hartford|New York',\n",
       "       'Charleston', 'Albany', 'Cincinnati', 'Worcester', 'Newburyport',\n",
       "       'Barnstable|Bristol', 'Barnstable', 'Beverly', 'Hancock',\n",
       "       'Brooklyn', 'Trenton'], dtype=object)"
      ]
     },
     "execution_count": 11,
     "metadata": {},
     "output_type": "execute_result"
    }
   ],
   "source": [
    "# how does the data look?\n",
    "df['City'].unique()[:50]"
   ]
  },
  {
   "cell_type": "code",
   "execution_count": 12,
   "metadata": {},
   "outputs": [
    {
     "data": {
      "text/plain": [
       "array([nan, 'Mexico', 'Guatemala', 'United States', 'England', 'Spain',\n",
       "       'United States|England', 'Netherlands',\n",
       "       'United States|United States', 'France', 'Canada',\n",
       "       'United States|France', 'England|France', 'China', 'Italy'],\n",
       "      dtype=object)"
      ]
     },
     "execution_count": 12,
     "metadata": {},
     "output_type": "execute_result"
    }
   ],
   "source": [
    "df['Country'].unique()[:15]\n"
   ]
  },
  {
   "cell_type": "markdown",
   "metadata": {},
   "source": [
    "Both features have some entries, where 2 countries or cities are mentioned twice. We have no idea why, so we could drop the second entry as maybe the first one mantioned would be of a bigger importance."
   ]
  },
  {
   "cell_type": "code",
   "execution_count": 13,
   "metadata": {},
   "outputs": [],
   "source": [
    "df2 = df"
   ]
  },
  {
   "cell_type": "code",
   "execution_count": 14,
   "metadata": {},
   "outputs": [],
   "source": [
    "def get_first(entry):\n",
    "    if '|' in entry:\n",
    "        return entry.split('|')[0]\n",
    "    else:\n",
    "        return entry"
   ]
  },
  {
   "cell_type": "code",
   "execution_count": 15,
   "metadata": {},
   "outputs": [],
   "source": [
    "# make all enties string just in case\n",
    "df['Country'] = df['Country'].astype(str)"
   ]
  },
  {
   "cell_type": "code",
   "execution_count": 16,
   "metadata": {},
   "outputs": [],
   "source": [
    "# drop all the second entries and '|' or leave enrty if it has one country inside\n",
    "df['Country'] = df['Country'].apply(get_first)"
   ]
  },
  {
   "cell_type": "code",
   "execution_count": 17,
   "metadata": {},
   "outputs": [
    {
     "data": {
      "text/plain": [
       "['nan',\n",
       " 'nan',\n",
       " 'nan',\n",
       " 'nan',\n",
       " 'nan',\n",
       " 'nan',\n",
       " 'nan',\n",
       " 'nan',\n",
       " 'nan',\n",
       " 'nan',\n",
       " 'nan',\n",
       " 'nan',\n",
       " 'nan',\n",
       " 'nan',\n",
       " 'Mexico',\n",
       " 'Mexico',\n",
       " 'Mexico',\n",
       " 'Mexico',\n",
       " 'Mexico',\n",
       " 'Mexico',\n",
       " 'Mexico',\n",
       " 'Guatemala',\n",
       " 'Guatemala',\n",
       " 'Mexico',\n",
       " 'Mexico',\n",
       " 'Mexico',\n",
       " 'Mexico',\n",
       " 'Mexico',\n",
       " 'Mexico',\n",
       " 'Mexico',\n",
       " 'Mexico',\n",
       " 'Mexico',\n",
       " 'United States',\n",
       " 'United States',\n",
       " 'United States',\n",
       " 'United States',\n",
       " 'England',\n",
       " 'England',\n",
       " 'United States',\n",
       " 'United States',\n",
       " 'United States',\n",
       " 'United States',\n",
       " 'United States',\n",
       " 'nan',\n",
       " 'nan',\n",
       " 'nan',\n",
       " 'nan',\n",
       " 'nan',\n",
       " 'nan',\n",
       " 'nan',\n",
       " 'nan',\n",
       " 'nan',\n",
       " 'nan',\n",
       " 'nan',\n",
       " 'nan',\n",
       " 'nan',\n",
       " 'nan',\n",
       " 'nan',\n",
       " 'nan',\n",
       " 'United States',\n",
       " 'United States',\n",
       " 'nan',\n",
       " 'nan',\n",
       " 'nan',\n",
       " 'nan',\n",
       " 'United States',\n",
       " 'United States',\n",
       " 'nan',\n",
       " 'nan',\n",
       " 'nan',\n",
       " 'nan',\n",
       " 'Spain',\n",
       " 'Spain',\n",
       " 'United States',\n",
       " 'nan',\n",
       " 'nan',\n",
       " 'nan',\n",
       " 'nan',\n",
       " 'nan',\n",
       " 'nan',\n",
       " 'nan',\n",
       " 'nan',\n",
       " 'nan',\n",
       " 'United States',\n",
       " 'United States',\n",
       " 'nan',\n",
       " 'nan',\n",
       " 'nan',\n",
       " 'nan',\n",
       " 'nan',\n",
       " 'nan',\n",
       " 'United States',\n",
       " 'United States',\n",
       " 'nan',\n",
       " 'nan',\n",
       " 'nan',\n",
       " 'nan',\n",
       " 'United States',\n",
       " 'United States',\n",
       " 'United States']"
      ]
     },
     "execution_count": 17,
     "metadata": {},
     "output_type": "execute_result"
    }
   ],
   "source": [
    "# results\n",
    "df['Country'].head(200).tolist()[:100]"
   ]
  },
  {
   "cell_type": "markdown",
   "metadata": {},
   "source": [
    "Now we need to do the same with cities"
   ]
  },
  {
   "cell_type": "code",
   "execution_count": 18,
   "metadata": {},
   "outputs": [
    {
     "data": {
      "text/plain": [
       "['nan',\n",
       " 'nan',\n",
       " 'nan',\n",
       " 'nan',\n",
       " 'nan',\n",
       " 'nan',\n",
       " 'nan',\n",
       " 'nan',\n",
       " 'nan',\n",
       " 'nan',\n",
       " 'nan',\n",
       " 'nan',\n",
       " 'nan',\n",
       " 'nan',\n",
       " 'nan',\n",
       " 'nan',\n",
       " 'nan',\n",
       " 'nan',\n",
       " 'nan',\n",
       " 'nan']"
      ]
     },
     "execution_count": 18,
     "metadata": {},
     "output_type": "execute_result"
    }
   ],
   "source": [
    "df['City'] = df['City'].astype(str)\n",
    "df['City'] = df['City'].apply(get_first)\n",
    "df['City'].head(200).tolist()[:20]"
   ]
  },
  {
   "cell_type": "markdown",
   "metadata": {},
   "source": [
    "To check integrity we can simply view if two columns intersect (eg there is a city in Contry column or otherwise). If that is the case (it is) we can prove data integrity is corrupted."
   ]
  },
  {
   "cell_type": "markdown",
   "metadata": {},
   "source": [
    "Let's take a look in 'Artist Gender'. Try clean up the weirdness a bit and see if anything is wrong."
   ]
  },
  {
   "cell_type": "code",
   "execution_count": 19,
   "metadata": {},
   "outputs": [
    {
     "data": {
      "text/plain": [
       "{'Brussels',\n",
       " 'Constantinople',\n",
       " 'Gotland',\n",
       " 'Netherlands',\n",
       " 'Niederbreisig',\n",
       " 'Rome',\n",
       " 'Sarawak',\n",
       " 'Sumatra',\n",
       " 'Tirana',\n",
       " 'United States',\n",
       " 'Zanzibar',\n",
       " 'nan',\n",
       " 'northern France'}"
      ]
     },
     "execution_count": 19,
     "metadata": {},
     "output_type": "execute_result"
    }
   ],
   "source": [
    "set(df['Country']).intersection(set(df['City']))"
   ]
  },
  {
   "cell_type": "code",
   "execution_count": 20,
   "metadata": {},
   "outputs": [
    {
     "data": {
      "text/plain": [
       "array([nan, '|', '|Female', '||', '||||', 'Female|', 'Female', '|||',\n",
       "       'Female|Female', '||Female', '|Female|Female', 'Female||',\n",
       "       'Female|Female|Female|Female|Female||Female|Female||||||Female|Female|Female|Female|||Female|||Female|Female|',\n",
       "       '|Female|', '|||Female', 'Female||Female', 'Female|Female|Female|',\n",
       "       '||||||||', '|||||||||||||||||||||||||||', 'Female|Female|',\n",
       "       'Female|Female||', 'Female|||', '|Female||', '||Female|Female',\n",
       "       '|Female||Female', '||Female|', 'Female|Female|Female', '||||||',\n",
       "       '|Female|||Female', '|||||', '|||||||', '||||Female|',\n",
       "       '||||||||||', '||||||||||||||||', '|||||||||||||', '|||||||||',\n",
       "       '||||||||||||||||||||',\n",
       "       'Female|||||||||||||||||||||||||||||Female||Female||||',\n",
       "       'Female||||Female|||Female|||||||||||||||||Female|',\n",
       "       '|Female||||||||||||||Female', '||||||Female||||||',\n",
       "       'Female||||Female|||||Female|||',\n",
       "       '|||||Female||||||Female|||||Female||||Female', '||||Female',\n",
       "       '||||||||||||||||||||||||||||||', '||Female||',\n",
       "       'Female|||||||Female|Female||||Female||', '|||||||||||||||||',\n",
       "       '||||||||||||||||||', '||Female|Female|Female|||||Female|||||',\n",
       "       '||||||||||||', '|||||||||||||||',\n",
       "       '||||||||||||||||||||||||||||||||||||||', '||Female||||||',\n",
       "       '||||||||||||||||||||||||||', 'Female|||Female|', '|||||||||||',\n",
       "       '||Female|||||||||||Female|||||||', '|||||||||Female',\n",
       "       '||||||||Female||||||||', '|Female||||||||||||||Female||||',\n",
       "       '|||Female|', '|||||||||||||Female||||||',\n",
       "       '|||||||||||||||||||||||||||||', '|||||||Female|Female',\n",
       "       '|||||||Female|', '||||||||||||||Female|||||||', '||||||||||||||',\n",
       "       '|||||||||Female|', '||Female||Female||', '|Female|Female|Female',\n",
       "       '|Female||||||||||||||||Female|||||||||||||||',\n",
       "       '|||||Female||||||||||||Female|||Female|||||||||',\n",
       "       '||||||||||||Female|||||Female||||||||||||||',\n",
       "       '|||||||||||||||||Female||||||||||||||||',\n",
       "       '|Female|||||||||||||||||||||||',\n",
       "       '|||||||||||||||||||||||||||||||||||||Female|||||||||||||||||||||||||',\n",
       "       '|Female||||||||||||||||||||||||||Female||||Female|||||||||||||||||',\n",
       "       '||||||||||||||||Female|||||||||||||', 'Female|||||Female|',\n",
       "       '||||||||||||||||||||Female||Female||||Female|Female|Female|||||||Female|||Female|Female|||||||||||||Female|||||||||||||||Female',\n",
       "       'Female||||||||||||', '||||||||||||||||||||||||||||||||',\n",
       "       '|||||||||||||||||||||||||', '|||||Female|||||||',\n",
       "       '|||||||||||||||||||||||||||||||||', '|||||Female||',\n",
       "       '|||Female|||||', '|||||Female', '||||||||||||||||||||||||',\n",
       "       '|||||||Female|||||||||||||||||||||||||',\n",
       "       '|||||||||||||||||||||||||||||||||||||', '|||||||||||||||||||',\n",
       "       '|||||Female||||Female|',\n",
       "       '||||||||Female|Female|Female|||||||||||||Female|||||',\n",
       "       '|||||||||Female|||||||||||||||||||||||', '|||Female||',\n",
       "       '|||||||||||||||||||||||||||||||||||||||||||||||||',\n",
       "       '||||||||Female||||', '||||||||||||||||||||||', 'Female||||',\n",
       "       '||||||||||||Female|||||', '|Female||||||||',\n",
       "       '||||||||||||Female||||Female||||Female|||||||||||',\n",
       "       '||Female||||', '|||||||||||||||||||||||||||||||||||',\n",
       "       '||||Female|||', 'Female||Female|Female', 'Female|Female||Female',\n",
       "       '||||||||Female|', '|Female|Female|||Female', '||||||Female',\n",
       "       '||||||||||||||||||||||||||||',\n",
       "       '|||||||||||||||||||||||||||||||Female||||', '|||Female|||',\n",
       "       '||Female|Female|Female|||||||Female||',\n",
       "       '|||||||||||||||||Female|||||', '||||Female|||||||',\n",
       "       '||||||||||||||||||||||||||||||Female|||||',\n",
       "       '|||||||||||||||||||||Female||||||||||||||||||||',\n",
       "       '|||||||||||||||||||||', '||||||||||||||||||||||||||Female|',\n",
       "       '|||||||||||||||||||||||||||||||||||||||||||||||', '||Female|||',\n",
       "       '||||||Female||', '|||Female||Female|',\n",
       "       '||||||||||||||Female|||||Female||',\n",
       "       '||||||||||||||||||||||||||||||||||||||||||||||||||||||||||||||||||||||||||||||',\n",
       "       '|||||||Female', '|||||||||||||||||||||||||||||||||||||||||',\n",
       "       '||||||||Female|||||||',\n",
       "       '|||Female|||Female|Female||||||Female|||||||||||||||||',\n",
       "       '||||||||||||||||||||Female|||||||||||||',\n",
       "       '|||||||||||||||||||||||||||||||||||||||', '|||||Female|',\n",
       "       'Female||||||', '||||||||||||||Female|||||', '|||||Female||||||',\n",
       "       '|Female|||||', '||||Female|Female||||Female||||||||Female|||',\n",
       "       '|||||||||||||Female|||', '||||||Female|||||',\n",
       "       '||Female||||||Female||||||||',\n",
       "       '||||||||||||||||||||||||||||||||||||||||||||||||||',\n",
       "       '|||||||||||||||||||||||||||||||||||||||||||||||||||||||||||||||||||||',\n",
       "       '||Female||||Female|Female', '|||||||||||||||Female||||',\n",
       "       '|||||||||||||||Female||Female||||||||Female||||', '|Female|||',\n",
       "       'Female||Female||Female|||||||||||||', 'Female|||||||',\n",
       "       'Female|||Female||||||||||Female|||||',\n",
       "       'Female||Female||||||Female|', '|||||Female|Female||||',\n",
       "       '||||Female||||||||', '|||||Female||||||||||||',\n",
       "       '||||||||||||||||||||||||||||||||||Female||||||||||Female',\n",
       "       '||||||||||||Female||||', '||||||||||Female||', '||||Female||',\n",
       "       '|Female||||||||Female|||||||Female|||||||||Female||||',\n",
       "       '||||Female|||||||||||',\n",
       "       '||||||||||||||||||||||||||||||Female|Female||||||||||||||||||||||||||||||||||||||||||Female||||Female|||||||||Female|Female|||||||||||||||||Female||Female||||||||||||||||||||||||||||',\n",
       "       '||||||||||||||||Female||||||', '|Female||||',\n",
       "       '|||||Female|||||||||||||Female||||||||||||||||||||||||||',\n",
       "       '||||||||Female||||||||||||||||||||', 'Female|||||',\n",
       "       '||||||||Female|||||Female||||||||||||Female||Female|Female|||||||||||||||Female|||||||',\n",
       "       '|||Female||||||||||||||||', '|||Female|||||Female',\n",
       "       '||Female|||Female|||', '|Female|||||||||Female|',\n",
       "       '|||Female||||||Female|||||||Female||||',\n",
       "       'Female|||||Female||||||||||||||||Female|',\n",
       "       '||Female|Female||||Female|Female|||||||||Female|',\n",
       "       '||Female|Female||||||Female||Female||||',\n",
       "       '|||||||||||||||Female|||||||||||||||||||||||||||||||||||||||||||||||||||||||||||Female||||||||',\n",
       "       '|||Female||||||||', '|||||||||Female|||||',\n",
       "       '|||||||Female|||||||', '||Female|Female||',\n",
       "       '||||Female||Female||||Female|||||', '|||||||||||||||||||||||',\n",
       "       '|||||||||||Female||||||||||Female||||||',\n",
       "       '||||||||||||||||||||Female||', '||||||||||||||||||Female||',\n",
       "       '|Female|||||||||||Female||||||',\n",
       "       '||Female||Female|Female||Female|Female||||Female||Female|Female||Female||Female|||',\n",
       "       'Female||||Female||||||Female||||Female||Female|||||Female||||||Female|Female|||Female|Female',\n",
       "       '||||Female|||||', '|||Female|||||||||||Female||||||||',\n",
       "       '||||||||||||||Female||||', '|||Female|||Female|||',\n",
       "       '||||||||||||||||||||||||||||||||||||||||||||',\n",
       "       '||||||||||||||Female|||||||||||||||||||||||',\n",
       "       '||||||||Female||||||||||||||||||||||||||||||', '|Female|Female||',\n",
       "       '||||||Female|||', '||Female||||||||', '|||||||||||||||Female|||',\n",
       "       '||Female|||||', '||||||||||Female|||||||Female|||||||||||||',\n",
       "       '||||||||||||Female|||||||||', '||||||||||||||||Female||||||||||',\n",
       "       '||||||||||||||||||||||||||||||Female||||||||||||||Female|||',\n",
       "       '||||||||||||Female||||||||Female||',\n",
       "       '|Female||||Female|Female||||||',\n",
       "       '|||||||||||||Female|||||||Female||',\n",
       "       '||||||||||||Female|||Female||',\n",
       "       '|Female||Female||||Female|Female|Female|Female|Female|Female|Female|Female|',\n",
       "       '||||||||||||Female|||||||||||Female||Female|Female||||||||||||Female||',\n",
       "       '|||||||||||||||||||||||||||||||||||||||||||',\n",
       "       'Female|Female||Female|',\n",
       "       'Female||||||||||||||Female|||||||||||||||||', '||Female|||||||',\n",
       "       'Female|||Female|||Female|', '|Female||||||||||||||||||||||||||||',\n",
       "       '|Female|||||||', '|||||Female||||||||||||||',\n",
       "       '||||||||||||||||||||||||||||||||||||||||||||||||||||||||||||||||||||||||||||',\n",
       "       'Female||||Female|||Female|Female|Female|Female||||||Female||Female||Female|Female|||Female||Female|Female||Female|Female|Female||||Female||||',\n",
       "       '|||||||||Female||||||||', '|||||||||||||||||Female',\n",
       "       '||Female|||||||||', 'Female|Female|||',\n",
       "       '||||||Female|||||||||||||||||||Female|||||||||',\n",
       "       '|||||||Female|||||||||||||||',\n",
       "       '||||||||||||||||||||||||||||||||||||||||||||||||||||||||Female||||||||||||||||Female|||||||||||||||||||||||||||||||||||',\n",
       "       '|||||||||||||||||||||||||||||||||||||||||||||||||||||||||||||||Female|||||||||||||Female|||||||||||||||||||||||||||||||||||||||||||||||||||||||||||',\n",
       "       '|||||||||||||||||||||||||||||||Female||||||||',\n",
       "       '|Female||Female|Female|||||',\n",
       "       '|||||||||||||||||||||||||Female||||',\n",
       "       '|||||||||||||||||||||Female||||||',\n",
       "       '||||||||||||||||||||||||||||||||||||||||||||||||||||||||||||||||||',\n",
       "       'Female|||||||||||',\n",
       "       '||||||||||||||||||||||||||||||||||||||||||||||||||||||||||||Female',\n",
       "       'Female||||Female', 'Female|||Female', 'Female||||Female|',\n",
       "       '|Female|Female|', '|||||||||||||||||Female||Female|||',\n",
       "       '||Female||||||||||||||||||||||||',\n",
       "       '|||||||||||||Female||||||||||||', 'Female||||||||||||||',\n",
       "       'Female|||||||||||||', 'Female|||||Female',\n",
       "       '||||||||||||||Female||Female|||||||', '|||||Female||||',\n",
       "       '||||||||||||||||||||Female||||||', '||Female|Female|',\n",
       "       'Female||Female|Female|Female||Female|Female||',\n",
       "       'Female|Female|Female|Female|Female|Female|Female||Female|Female|Female|Female|Female|Female|Female|Female|Female|Female||Female|Female|Female',\n",
       "       '|||Female|||||Female|', '|||||||||||Female', '|||Female|Female',\n",
       "       '|||Female||Female||||Female||', '||||||Female|',\n",
       "       '||||Female|||Female|Female|', 'Female|||Female||Female||||',\n",
       "       '|Female|Female|Female||||||', 'Female|Female|Female|||||||',\n",
       "       '|Female||Female||||Female||', '|||Female||Female|Female',\n",
       "       '|Female|Female||Female|||Female||Female', '|Female||Female|',\n",
       "       '||Female||Female', 'Female||Female||', '||Female||||||||||||||',\n",
       "       '||||||Female||||||||||||||||||||||', '||Female||Female|||',\n",
       "       '||||||||Female||||||',\n",
       "       'Female|Female|Female|Female|Female|Female|Female',\n",
       "       '||Female|||||||Female|', '|||Female||||',\n",
       "       'Female|||||Female||||Female|', '|Female||Female|||',\n",
       "       'Female||Female|', 'Female||Female|||', '||||Female|Female',\n",
       "       '|||||||||||||||||||||||||||||||Female||||||||Female|||||||||||Female||||||||||||||||||||||||||||||||||||',\n",
       "       '|||||Female|||||||||||||||||||||||||||||||||||||||||||||||||||||||||||||||||',\n",
       "       '|||||||||||||||||||||||||||Female|||||Female||||||||||||||||Female|||||||Female|||',\n",
       "       '||||||||||Female|||||||||||||||||||||||||||||Female|||||||||',\n",
       "       '||||||||Female|||Female||', '||||||||||||||||||||||||||||Female|',\n",
       "       'Female||||||||||||||||||Female||||||||||||||||||||||||||||||||Female|||||||||||||||||||||||||||||||||||||||||',\n",
       "       '|||||||||||||||||||||||||||||||||||||||||||||||||||||||||||||||||||||||||||||||||||||||||||||||||||||||||||||||||||||||||||||||||',\n",
       "       '||||||||||||||||||Female|||',\n",
       "       '|||Female|||Female||Female||Female||Female||Female',\n",
       "       '|||||||||||||||||||||||||||||||||||||Female|||||||||||||||||||||||||||||||||||||||||'],\n",
       "      dtype=object)"
      ]
     },
     "execution_count": 20,
     "metadata": {},
     "output_type": "execute_result"
    }
   ],
   "source": [
    "df['Artist Gender'].unique()"
   ]
  },
  {
   "cell_type": "code",
   "execution_count": 21,
   "metadata": {},
   "outputs": [
    {
     "data": {
      "text/plain": [
       "array([nan, '', 'Female', 'FemaleFemale',\n",
       "       'FemaleFemaleFemaleFemaleFemaleFemaleFemaleFemaleFemaleFemaleFemaleFemaleFemaleFemale',\n",
       "       'FemaleFemaleFemale', 'FemaleFemaleFemaleFemale',\n",
       "       'FemaleFemaleFemaleFemaleFemaleFemaleFemaleFemaleFemaleFemale',\n",
       "       'FemaleFemaleFemaleFemaleFemaleFemaleFemaleFemale',\n",
       "       'FemaleFemaleFemaleFemaleFemaleFemale',\n",
       "       'FemaleFemaleFemaleFemaleFemale',\n",
       "       'FemaleFemaleFemaleFemaleFemaleFemaleFemaleFemaleFemaleFemaleFemaleFemaleFemaleFemaleFemaleFemaleFemale',\n",
       "       'FemaleFemaleFemaleFemaleFemaleFemaleFemaleFemaleFemaleFemaleFemaleFemaleFemaleFemaleFemaleFemaleFemaleFemaleFemaleFemale',\n",
       "       'FemaleFemaleFemaleFemaleFemaleFemaleFemale'], dtype=object)"
      ]
     },
     "execution_count": 21,
     "metadata": {},
     "output_type": "execute_result"
    }
   ],
   "source": [
    "df['Artist Gender'] = df['Artist Gender'].str.replace('|', '')\n",
    "df['Artist Gender'].unique()"
   ]
  },
  {
   "cell_type": "code",
   "execution_count": 22,
   "metadata": {},
   "outputs": [
    {
     "data": {
      "text/plain": [
       "array(['', 'Female'], dtype=object)"
      ]
     },
     "execution_count": 22,
     "metadata": {},
     "output_type": "execute_result"
    }
   ],
   "source": [
    "df.dropna(subset=['Artist Gender'], inplace=True)\n",
    "df['Artist Gender'] = df['Artist Gender'].apply(lambda x: x.replace('Female', '', x.count('Female') - 1))\n",
    "df['Artist Gender'].unique()"
   ]
  },
  {
   "cell_type": "markdown",
   "metadata": {},
   "source": [
    "There are no males. That is a huge problem with integrity. Are there any male names in 'Artist Name'? If yes the integrity is definitely corrupted."
   ]
  },
  {
   "cell_type": "code",
   "execution_count": 23,
   "metadata": {},
   "outputs": [
    {
     "data": {
      "text/plain": [
       "array(['Paulding Farnham|Tiffany & Co.',\n",
       "       'Louis C. Tiffany|Tiffany Glass and Decorating Company',\n",
       "       'John Henry Belter|J. H. Belter & Co.',\n",
       "       'J. H. Belter & Co.|John Henry Belter',\n",
       "       'Tiffany Studios|Agnes F. Northrop',\n",
       "       'Winslow Brothers Company|Louis Henry Sullivan',\n",
       "       'Louis Henry Sullivan|Dankmar Adler',\n",
       "       'Louis Henry Sullivan|Yale and Towne Manufacturing Company|Dankmar Adler',\n",
       "       'Samuel Hamlin|Samuel Ely Hamlin',\n",
       "       'Joseph Leddel Sr.|Joseph Leddel Jr.'], dtype=object)"
      ]
     },
     "execution_count": 23,
     "metadata": {},
     "output_type": "execute_result"
    }
   ],
   "source": [
    "df['Artist Display Name'].unique()[:10]"
   ]
  },
  {
   "cell_type": "markdown",
   "metadata": {},
   "source": [
    "Louis, Samuelm John, Windslow Brothers - obviously males. No 'male' option in Gender though. Integrity is corrupted."
   ]
  },
  {
   "cell_type": "markdown",
   "metadata": {},
   "source": [
    "## Step 4 - convert to proper data type"
   ]
  },
  {
   "cell_type": "markdown",
   "metadata": {},
   "source": [
    "First will be numerical. Let's take a look at 'Object Number'"
   ]
  },
  {
   "cell_type": "code",
   "execution_count": 24,
   "metadata": {},
   "outputs": [
    {
     "data": {
      "text/plain": [
       "array(['108316253', '16254216254', '110321528', ..., '1640377460816198',\n",
       "       '1640371619827460', '7460816403716198'], dtype=object)"
      ]
     },
     "execution_count": 24,
     "metadata": {},
     "output_type": "execute_result"
    }
   ],
   "source": [
    "df['Constituent ID'].unique()"
   ]
  },
  {
   "cell_type": "markdown",
   "metadata": {},
   "source": [
    "Resulting datatype is object. We need it to be numerical as IDs are plain numbers."
   ]
  },
  {
   "cell_type": "code",
   "execution_count": 25,
   "metadata": {},
   "outputs": [],
   "source": [
    "df['Constituent ID'] = pd.to_numeric(df['Constituent ID'], errors='coerce')\n",
    "# as result we are getting float, ID is a whole number, change to int. nan are float, we cannot convert them to int, need to drop"
   ]
  },
  {
   "cell_type": "code",
   "execution_count": 26,
   "metadata": {},
   "outputs": [
    {
     "data": {
      "text/plain": [
       "dtype('float64')"
      ]
     },
     "execution_count": 26,
     "metadata": {},
     "output_type": "execute_result"
    }
   ],
   "source": [
    "df['Constituent ID'].dropna().astype('int64')\n",
    "df['Constituent ID'].dtypes"
   ]
  },
  {
   "cell_type": "markdown",
   "metadata": {},
   "source": [
    "We are still getting float64 as the numbers are out of range of int64. This is not a problem as they are numeric anyway.\n",
    "\n",
    "Now let's try 'Gallery Number'"
   ]
  },
  {
   "cell_type": "code",
   "execution_count": 27,
   "metadata": {},
   "outputs": [
    {
     "data": {
      "text/plain": [
       "array(['706', '774', '743', '739', '700', '701', nan, '704', '750', '729'],\n",
       "      dtype=object)"
      ]
     },
     "execution_count": 27,
     "metadata": {},
     "output_type": "execute_result"
    }
   ],
   "source": [
    "df['Gallery Number'].unique()[:10]"
   ]
  },
  {
   "cell_type": "code",
   "execution_count": 28,
   "metadata": {},
   "outputs": [
    {
     "data": {
      "text/plain": [
       "dtype('float64')"
      ]
     },
     "execution_count": 28,
     "metadata": {},
     "output_type": "execute_result"
    }
   ],
   "source": [
    "df['Gallery Number'] = pd.to_numeric(df['Gallery Number'], errors='coerce')\n",
    "df['Gallery Number'].dtypes"
   ]
  },
  {
   "cell_type": "markdown",
   "metadata": {},
   "source": [
    "Let's do categories. 'Tags', 'Cities'"
   ]
  },
  {
   "cell_type": "code",
   "execution_count": 29,
   "metadata": {},
   "outputs": [
    {
     "data": {
      "text/plain": [
       "array(['Animals|Garlands|Birds|Men', nan,\n",
       "       'Windows|Waterfalls|Landscapes|Autumn', ..., 'Musicians|Cellos',\n",
       "       'Billiards', 'Horses|Sports'], dtype=object)"
      ]
     },
     "execution_count": 29,
     "metadata": {},
     "output_type": "execute_result"
    }
   ],
   "source": [
    "df['Tags'].unique()"
   ]
  },
  {
   "cell_type": "code",
   "execution_count": 30,
   "metadata": {},
   "outputs": [
    {
     "data": {
      "text/plain": [
       "34        Animals|Garlands|Birds|Men\n",
       "111                              NaN\n",
       "112                              NaN\n",
       "203                              NaN\n",
       "204                              NaN\n",
       "                     ...            \n",
       "484945                           NaN\n",
       "484946                           NaN\n",
       "484947                           NaN\n",
       "484948                           NaN\n",
       "484949                           NaN\n",
       "Name: Tags, Length: 106482, dtype: category\n",
       "Categories (14790, object): ['Abbeys', 'Abbeys|Ruins|Men', 'Abbeys|Women|Washing', 'Abel|Adam|Eve|Death', ..., 'Zeus', 'Zodiac', 'Zodiac|Astronomy', 'Zodiac|Male Nudes|Pegasus']"
      ]
     },
     "execution_count": 30,
     "metadata": {},
     "output_type": "execute_result"
    }
   ],
   "source": [
    "df['Tags'] = df['Tags'].astype('category')\n",
    "df['Tags']"
   ]
  },
  {
   "cell_type": "code",
   "execution_count": 31,
   "metadata": {},
   "outputs": [
    {
     "data": {
      "text/plain": [
       "dtype('O')"
      ]
     },
     "execution_count": 31,
     "metadata": {},
     "output_type": "execute_result"
    }
   ],
   "source": [
    "df['City'].dtypes"
   ]
  },
  {
   "cell_type": "code",
   "execution_count": 32,
   "metadata": {},
   "outputs": [
    {
     "data": {
      "text/plain": [
       "34        New York\n",
       "111       New York\n",
       "112       New York\n",
       "203       New York\n",
       "204       New York\n",
       "            ...   \n",
       "484945         nan\n",
       "484946         nan\n",
       "484947         nan\n",
       "484948         nan\n",
       "484949         nan\n",
       "Name: City, Length: 106482, dtype: category\n",
       "Categories (570, object): ['Aarau', 'Ahmedabad', 'Aix', 'Akron', ..., 'probably Istanbul or Amasya', 'probably Lahore', 'probably Paris', 'probably Shiraz']"
      ]
     },
     "execution_count": 32,
     "metadata": {},
     "output_type": "execute_result"
    }
   ],
   "source": [
    "df['City'] = df['City'].astype('category')\n",
    "df['City']"
   ]
  },
  {
   "cell_type": "markdown",
   "metadata": {},
   "source": [
    "Now it is time for datetime."
   ]
  },
  {
   "cell_type": "code",
   "execution_count": 33,
   "metadata": {},
   "outputs": [
    {
     "data": {
      "text/plain": [
       "array([ 1893,  1894,  1888,  1890,  1850,  1923,  1899,  1891,  1770,\n",
       "        1712,  1830,  1810,  1822,  1667,  1916,  1776,  1876,  1847,\n",
       "        1716,  1907,  1784,  1910,  1846,  1849,  1835,  1844,  1908,\n",
       "        1887,  1905,  1898,  1882,  1902,  1857,  1919,  1897,  1912,\n",
       "        1929,  1777,  1922,  1870,  1800,  1790,  1725,  1892,  1820,\n",
       "        1877,  1873,  1764,  1845,  1895,  1827,  1795,  1901,  1815,\n",
       "        1832,  1896,  1861,  1670,  1663,  1761,  1852,  1878,  1788,\n",
       "        1739,  1825,  1886,  1793,  1866,  1848,  1813,  1860,  1874,\n",
       "        1927,  1867,  1904,  1805,  1903,  1883,  1759,  1760,  1952,\n",
       "        1775,  1918,  1889,  1769,  1824,  1767,  1840,  1791,  1731,\n",
       "        1831,  1796,  1911,  1913,  1862,  1875,  1837,  1765,  1915,\n",
       "        1900,  1854,  1853,  1823,  1834,  1778,  1750,  1718,  1730,\n",
       "        1782,  1807,  1914,  1884,  1880,  1828,  1842,  1829,  1855,\n",
       "        1797,  1698,  1773,  1735,  1697,  1762,  1652,  1665,  1662,\n",
       "        1843,  1841,  1812,  1742,  1705,  1780,  1789,  1772,  1747,\n",
       "        1838,  1879,  1924,  1906,  1909,  1885,  1833,  1921,  1935,\n",
       "        1821,  1808,  1932,  1809,  1869,  1930,  1881,  1926,  1708,\n",
       "        1920,  1931,  1917,  1925,  1818,  1785,  1798,  1859,  1794,\n",
       "        1872,  1865,  1871,  1751,  1811,  1717,  1814,  1792,  1937,\n",
       "        1817,  1787,  1737,  1786,  1801,  1757,  1945,  1783,  1864,\n",
       "        1851,  1806,  1727,  1802,  1804,  1819,  1826,  1766,  1955,\n",
       "        1863,  1856,  1956,  1936,  1943,  1953,  1940,  1948,  1967,\n",
       "        1939,  1950,  1768,  1868,  1660,  1721,  1755,  1934,  1928,\n",
       "        1949,  1752,  1749,     0,  1500,  1325,  1525,  1661,  1615,\n",
       "        1549,  1562,  1570,  1535,  1546,  1585,  1515,  1501,  1655,\n",
       "        1701,  1527,  1554,  1743,  1591,  1601,  1505,  1540,  1668,\n",
       "        1679,  1450,  1350,  1650,  1440,  1401,  1485,  1530,  1625,\n",
       "        1635,  1606,  1322,  1595,  1715,  1644,  1645,  1425,  1445,\n",
       "        2004,  1590,  1816,  1568,  1799,  1690,  1550,  1460,  1545,\n",
       "        1653,  1700,  1707,  1368,  1600,  1200,  1300,  1271,  1467,\n",
       "        1947,  1400,  1729,  1982,  1684,  1688,  1509,  1695,  1392,\n",
       "        1037,  1000,   960,  1100,  1669,  1134,  1107,  1167,  1270,\n",
       "        1734,  1296,  1175,  1674,  1478,  1656,  1367,  1738,  1470,\n",
       "        1576,  1572,  1728,  1627,  1771,  1682,  1686,  1941,  1082,\n",
       "         990,  1534,  1374,  1520,  1309,   618,   900,   906,  1638,\n",
       "        1740,  1624,  1779,  1723,  1979,  1736,  1692,  1973,  1938,\n",
       "        1616,  1632,  2005,  1636,  2007,  1980,  1946,  2009,  1986,\n",
       "        1991,  1998,  2008,  2000,  1626,  2011,  1803,  1836,  1981,\n",
       "        1975,  1977,  1970,  1984,  1983,  1974,  1968,  1957,  1993,\n",
       "        1988,  1990,  1976,  1978,  1994,  1963,  1992,  1995,  1989,\n",
       "        1951,  1985,  1961,  1996,  1962,  1960,  1965,  1971,  1987,\n",
       "        1964,  1969,  1972,  1997,  1954,  1966,  1944,  1942,  1958,\n",
       "        1999,  1933,  2001,  1959,  2002,  2003,  2006, -2400, -2000,\n",
       "        2010,  2012,  2013,  1720,  1781,  1774,  1565,  1542,  1744,\n",
       "        1719,  1673,  1680,  1436,  1745,  1696,  1634,  1456,  1687,\n",
       "        1642,  1495,  1560,  1598,  1756,  1763,  1475,  1671,  1685,\n",
       "        1710,  1675,  1683,  1630,  1640,  1758,  1446,  1733,  1839,\n",
       "        1536,  1522,  1575,  1748,  1741,  1694,  1584,  1714,  1613,\n",
       "        1555,  1473,  1529,  1465,  1547,  1703,  1746,  1689,  1753,\n",
       "        1678,  1726,  1722,  1724,  1596,  1754,  1579,  1713,  1732,\n",
       "        1583,  1709,  1637,  1611,  1580,  1858,  1499,  1548,  1672,\n",
       "        1592,  1648,  1526,  1510,  1556,  1619,  1631,  1649,  1641,\n",
       "        -470,  -550,  -500,  -480,  -490,  -450,  -580,  -460,  -420,\n",
       "        -570,  -499,  -540,  -330,  -340,  -530,  -560,  -520,  1610,\n",
       "        1581,  1528,  1586,  1543,  1623,  1621,  1693,  1629,  1633,\n",
       "        1574,  1531,  1567,  1490,  1614,  1607,  1657,  1594,  1496,\n",
       "        1430,  1658,  1480,  1539,  1517,  1521,  1605,  1711,  1588,\n",
       "        1587,  1538,  1578,  1544,  1537,  1577,  1706,  1559,  1571,\n",
       "        1415,  1498,  1502,  1494,  1482,  1487,  1486,  1493,  1484,\n",
       "        1492,  1488,  1620,  1513,  1569,  1553,  1557,  1558,  1566,\n",
       "        1561,  1514,  1519,  1516,  1507,  1604,  1491,  1497,  1608,\n",
       "        1503,  1573,  1704,  1589,  1511,  1508,  1612,  1551,  1597,\n",
       "        1582,  1541,  1603,  1646,  1702,  1622,  1602,  1599,  1512,\n",
       "        1506,  1504,  1524,  1518,  1523,  1533,  1643,  1618,  1593,\n",
       "        1699,  1563,  1609,  1628,  1617,  1564,  1479,  1474,  1677,\n",
       "        1552,  1664,  1691,  1654,  1477,  1489,  1681,  1481,  1647,\n",
       "        1676,  1651,  1483,  1639,  1532,  1420,  1659,  1666,  1423,\n",
       "        1468,  1476,  1472,  1469,    16,  1435,    18,    17,  1422,\n",
       "        1455,  1316,  1281,  1282,  1290,  1411,  1410,  1462,  1452,\n",
       "        1461,  1406,  1405,  1336,  1317,  1380,  1448,  1471,  1447,\n",
       "        1337,  1453,  1443, -2060, -2140, -1897, -1550, -1473, -1479,\n",
       "       -1504, -1279, -1390, -1184, -1400, -1410, -1353, -1427, -1971,\n",
       "       -1567, -1327, -1294, -1295, -1126,  2014,  2015,  2016,    19,\n",
       "        2017,  -600,  2018,    20,  1426,  2019,   800,  2020,  2021,\n",
       "        2022], dtype=int64)"
      ]
     },
     "execution_count": 33,
     "metadata": {},
     "output_type": "execute_result"
    }
   ],
   "source": [
    "df['Object Begin Date'].unique()"
   ]
  },
  {
   "cell_type": "markdown",
   "metadata": {},
   "source": [
    "Some are 0, some are negative. Obviously '-1410' means 1410. 0 we can't be sure, let's leave it as 0. Could be made then."
   ]
  },
  {
   "cell_type": "code",
   "execution_count": 34,
   "metadata": {},
   "outputs": [
    {
     "data": {
      "text/plain": [
       "array([1893, 1894, 1888, 1890, 1850, 1923, 1899, 1891, 1770, 1712, 1830,\n",
       "       1810, 1822, 1667, 1916, 1776, 1876, 1847, 1716, 1907, 1784, 1910,\n",
       "       1846, 1849, 1835, 1844, 1908, 1887, 1905, 1898, 1882, 1902, 1857,\n",
       "       1919, 1897, 1912, 1929, 1777, 1922, 1870, 1800, 1790, 1725, 1892,\n",
       "       1820, 1877, 1873, 1764, 1845, 1895, 1827, 1795, 1901, 1815, 1832,\n",
       "       1896, 1861, 1670, 1663, 1761, 1852, 1878, 1788, 1739, 1825, 1886,\n",
       "       1793, 1866, 1848, 1813, 1860, 1874, 1927, 1867, 1904, 1805, 1903,\n",
       "       1883, 1759, 1760, 1952, 1775, 1918, 1889, 1769, 1824, 1767, 1840,\n",
       "       1791, 1731, 1831, 1796, 1911, 1913, 1862, 1875, 1837, 1765, 1915,\n",
       "       1900, 1854, 1853, 1823, 1834, 1778, 1750, 1718, 1730, 1782, 1807,\n",
       "       1914, 1884, 1880, 1828, 1842, 1829, 1855, 1797, 1698, 1773, 1735,\n",
       "       1697, 1762, 1652, 1665, 1662, 1843, 1841, 1812, 1742, 1705, 1780,\n",
       "       1789, 1772, 1747, 1838, 1879, 1924, 1906, 1909, 1885, 1833, 1921,\n",
       "       1935, 1821, 1808, 1932, 1809, 1869, 1930, 1881, 1926, 1708, 1920,\n",
       "       1931, 1917, 1925, 1818, 1785, 1798, 1859, 1794, 1872, 1865, 1871,\n",
       "       1751, 1811, 1717, 1814, 1792, 1937, 1817, 1787, 1737, 1786, 1801,\n",
       "       1757, 1945, 1783, 1864, 1851, 1806, 1727, 1802, 1804, 1819, 1826,\n",
       "       1766, 1955, 1863, 1856, 1956, 1936, 1943, 1953, 1940, 1948, 1967,\n",
       "       1939, 1950, 1768, 1868, 1660, 1721, 1755, 1934, 1928, 1949, 1752,\n",
       "       1749,    0, 1500, 1325, 1525, 1661, 1615, 1549, 1562, 1570, 1535,\n",
       "       1546, 1585, 1515, 1501, 1655, 1701, 1527, 1554, 1743, 1591, 1601,\n",
       "       1505, 1540, 1668, 1679, 1450, 1350, 1650, 1440, 1401, 1485, 1530,\n",
       "       1625, 1635, 1606, 1322, 1595, 1715, 1644, 1645, 1425, 1445, 2004,\n",
       "       1590, 1816, 1568, 1799, 1690, 1550, 1460, 1545, 1653, 1700, 1707,\n",
       "       1368, 1600, 1200, 1300, 1271, 1467, 1947, 1400, 1729, 1982, 1684,\n",
       "       1688, 1509, 1695, 1392, 1037, 1000,  960, 1100, 1669, 1134, 1107,\n",
       "       1167, 1270, 1734, 1296, 1175, 1674, 1478, 1656, 1367, 1738, 1470,\n",
       "       1576, 1572, 1728, 1627, 1771, 1682, 1686, 1941, 1082,  990, 1534,\n",
       "       1374, 1520, 1309,  618,  900,  906, 1638, 1740, 1624, 1779, 1723,\n",
       "       1979, 1736, 1692, 1973, 1938, 1616, 1632, 2005, 1636, 2007, 1980,\n",
       "       1946, 2009, 1986, 1991, 1998, 2008, 2000, 1626, 2011, 1803, 1836,\n",
       "       1981, 1975, 1977, 1970, 1984, 1983, 1974, 1968, 1957, 1993, 1988,\n",
       "       1990, 1976, 1978, 1994, 1963, 1992, 1995, 1989, 1951, 1985, 1961,\n",
       "       1996, 1962, 1960, 1965, 1971, 1987, 1964, 1969, 1972, 1997, 1954,\n",
       "       1966, 1944, 1942, 1958, 1999, 1933, 2001, 1959, 2002, 2003, 2006,\n",
       "       2400, 2010, 2012, 2013, 1720, 1781, 1774, 1565, 1542, 1744, 1719,\n",
       "       1673, 1680, 1436, 1745, 1696, 1634, 1456, 1687, 1642, 1495, 1560,\n",
       "       1598, 1756, 1763, 1475, 1671, 1685, 1710, 1675, 1683, 1630, 1640,\n",
       "       1758, 1446, 1733, 1839, 1536, 1522, 1575, 1748, 1741, 1694, 1584,\n",
       "       1714, 1613, 1555, 1473, 1529, 1465, 1547, 1703, 1746, 1689, 1753,\n",
       "       1678, 1726, 1722, 1724, 1596, 1754, 1579, 1713, 1732, 1583, 1709,\n",
       "       1637, 1611, 1580, 1858, 1499, 1548, 1672, 1592, 1648, 1526, 1510,\n",
       "       1556, 1619, 1631, 1649, 1641,  470,  550,  500,  480,  490,  450,\n",
       "        580,  460,  420,  570,  499,  540,  330,  340,  530,  560,  520,\n",
       "       1610, 1581, 1528, 1586, 1543, 1623, 1621, 1693, 1629, 1633, 1574,\n",
       "       1531, 1567, 1490, 1614, 1607, 1657, 1594, 1496, 1430, 1658, 1480,\n",
       "       1539, 1517, 1521, 1605, 1711, 1588, 1587, 1538, 1578, 1544, 1537,\n",
       "       1577, 1706, 1559, 1571, 1415, 1498, 1502, 1494, 1482, 1487, 1486,\n",
       "       1493, 1484, 1492, 1488, 1620, 1513, 1569, 1553, 1557, 1558, 1566,\n",
       "       1561, 1514, 1519, 1516, 1507, 1604, 1491, 1497, 1608, 1503, 1573,\n",
       "       1704, 1589, 1511, 1508, 1612, 1551, 1597, 1582, 1541, 1603, 1646,\n",
       "       1702, 1622, 1602, 1599, 1512, 1506, 1504, 1524, 1518, 1523, 1533,\n",
       "       1643, 1618, 1593, 1699, 1563, 1609, 1628, 1617, 1564, 1479, 1474,\n",
       "       1677, 1552, 1664, 1691, 1654, 1477, 1489, 1681, 1481, 1647, 1676,\n",
       "       1651, 1483, 1639, 1532, 1420, 1659, 1666, 1423, 1468, 1476, 1472,\n",
       "       1469,   16, 1435,   18,   17, 1422, 1455, 1316, 1281, 1282, 1290,\n",
       "       1411, 1410, 1462, 1452, 1461, 1406, 1405, 1336, 1317, 1380, 1448,\n",
       "       1471, 1447, 1337, 1453, 1443, 2060, 2140, 1279, 1390, 1184, 1353,\n",
       "       1427, 1327, 1294, 1295, 1126, 2014, 2015, 2016,   19, 2017,  600,\n",
       "       2018,   20, 1426, 2019,  800, 2020, 2021, 2022], dtype=int64)"
      ]
     },
     "execution_count": 34,
     "metadata": {},
     "output_type": "execute_result"
    }
   ],
   "source": [
    "df['Object Begin Date'] = df['Object Begin Date'].abs()\n",
    "df['Object Begin Date'].unique()"
   ]
  },
  {
   "cell_type": "code",
   "execution_count": 35,
   "metadata": {},
   "outputs": [],
   "source": [
    "df['Object Begin Date'] = pd.to_datetime(df['Object Begin Date'],  format='%Y', errors='coerce')"
   ]
  },
  {
   "cell_type": "code",
   "execution_count": 36,
   "metadata": {},
   "outputs": [
    {
     "data": {
      "text/plain": [
       "<DatetimeArray>\n",
       "['1893-01-01 00:00:00', '1894-01-01 00:00:00', '1888-01-01 00:00:00',\n",
       " '1890-01-01 00:00:00', '1850-01-01 00:00:00', '1923-01-01 00:00:00',\n",
       " '1899-01-01 00:00:00', '1891-01-01 00:00:00', '1770-01-01 00:00:00',\n",
       " '1712-01-01 00:00:00',\n",
       " ...\n",
       " '2140-01-01 00:00:00', '2014-01-01 00:00:00', '2015-01-01 00:00:00',\n",
       " '2016-01-01 00:00:00', '2017-01-01 00:00:00', '2018-01-01 00:00:00',\n",
       " '2019-01-01 00:00:00', '2020-01-01 00:00:00', '2021-01-01 00:00:00',\n",
       " '2022-01-01 00:00:00']\n",
       "Length: 348, dtype: datetime64[ns]"
      ]
     },
     "execution_count": 36,
     "metadata": {},
     "output_type": "execute_result"
    }
   ],
   "source": [
    "df['Object Begin Date'].unique()"
   ]
  },
  {
   "cell_type": "markdown",
   "metadata": {},
   "source": [
    "## Step 5 - outliers."
   ]
  },
  {
   "cell_type": "markdown",
   "metadata": {},
   "source": [
    "Let's do a simple plot test on 'Object Begin Date'. We will see the outliers clearly"
   ]
  },
  {
   "cell_type": "code",
   "execution_count": 37,
   "metadata": {},
   "outputs": [
    {
     "data": {
      "text/plain": [
       "<Axes: >"
      ]
     },
     "execution_count": 37,
     "metadata": {},
     "output_type": "execute_result"
    },
    {
     "data": {
      "image/png": "[encoded data removed]",
      "text/plain": [
       "<Figure size 640x480 with 1 Axes>"
      ]
     },
     "metadata": {},
     "output_type": "display_data"
    }
   ],
   "source": [
    "from datetime import datetime\n",
    "df['Object Begin Date'].plot()"
   ]
  },
  {
   "cell_type": "code",
   "execution_count": 38,
   "metadata": {},
   "outputs": [
    {
     "data": {
      "text/plain": [
       "340928   2060-01-01\n",
       "340929   2060-01-01\n",
       "340930   2140-01-01\n",
       "Name: Object Begin Date, dtype: datetime64[ns]"
      ]
     },
     "execution_count": 38,
     "metadata": {},
     "output_type": "execute_result"
    }
   ],
   "source": [
    "df[df['Object Begin Date'] > datetime(2023, 1, 1)]['Object Begin Date']"
   ]
  },
  {
   "cell_type": "code",
   "execution_count": 39,
   "metadata": {},
   "outputs": [
    {
     "data": {
      "text/plain": [
       "195087   2025-01-01\n",
       "195123   2025-01-01\n",
       "195124   2025-01-01\n",
       "195127   2025-01-01\n",
       "310255   2035-01-01\n",
       "367174   2038-01-01\n",
       "379067   2038-01-01\n",
       "387024   2038-01-01\n",
       "387025   2039-01-01\n",
       "387752   2027-01-01\n",
       "388023   2027-01-01\n",
       "407198   2089-01-01\n",
       "407213   2078-01-01\n",
       "412622   2040-01-01\n",
       "460916   2035-01-01\n",
       "460917   2035-01-01\n",
       "460918   2035-01-01\n",
       "474024   2044-01-01\n",
       "Name: Object End Date, dtype: datetime64[ns]"
      ]
     },
     "execution_count": 39,
     "metadata": {},
     "output_type": "execute_result"
    }
   ],
   "source": [
    "# let's also try object end date\n",
    "df['Object End Date'] = df['Object End Date'].abs()\n",
    "df['Object End Date'] = pd.to_datetime(df['Object End Date'],  format='%Y', errors='coerce')\n",
    "df[df['Object End Date'] > datetime(2023, 1, 1)]['Object End Date']"
   ]
  },
  {
   "cell_type": "markdown",
   "metadata": {},
   "source": [
    "Lastly we will look at outliers in 'Dimensions' after cleaning them. See the end of the notebook."
   ]
  },
  {
   "cell_type": "markdown",
   "metadata": {},
   "source": [
    "These are easy outliers as these days are in the future."
   ]
  },
  {
   "cell_type": "markdown",
   "metadata": {},
   "source": [
    "## Step 6 - missing data"
   ]
  },
  {
   "cell_type": "code",
   "execution_count": 40,
   "metadata": {},
   "outputs": [
    {
     "data": {
      "text/plain": [
       "Object Number                   0\n",
       "Is Highlight                    0\n",
       "Is Timeline Work                0\n",
       "Is Public Domain                0\n",
       "Object ID                       0\n",
       "Gallery Number             103772\n",
       "Department                      0\n",
       "AccessionYear                1343\n",
       "Object Name                   598\n",
       "Title                         403\n",
       "Culture                     89903\n",
       "Period                     105742\n",
       "Dynasty                    106321\n",
       "Reign                      106357\n",
       "Portfolio                   87120\n",
       "Constituent ID                 16\n",
       "Artist Role                     0\n",
       "Artist Prefix                   0\n",
       "Artist Display Name             0\n",
       "Artist Display Bio              0\n",
       "Artist Suffix                   0\n",
       "Artist Alpha Sort               0\n",
       "Artist Nationality              0\n",
       "Artist Begin Date               0\n",
       "Artist End Date                 0\n",
       "Artist Gender                   0\n",
       "Artist ULAN URL              1322\n",
       "Artist Wikidata URL          1324\n",
       "Object Date                  1401\n",
       "Object Begin Date           22138\n",
       "Object End Date             19368\n",
       "Medium                       2301\n",
       "Dimensions                  13560\n",
       "Credit Line                   330\n",
       "Geography Type             103891\n",
       "City                            0\n",
       "State                      106355\n",
       "County                     105892\n",
       "Country                         0\n",
       "Region                     105969\n",
       "Subregion                  106380\n",
       "Locale                     106378\n",
       "Locus                      106471\n",
       "Excavation                 106453\n",
       "River                      106221\n",
       "Classification              11678\n",
       "Rights and Reproduction    101528\n",
       "Link Resource                   0\n",
       "Object Wikidata URL         98052\n",
       "Metadata Date              106482\n",
       "Repository                      0\n",
       "Tags                        68608\n",
       "Tags AAT URL                68608\n",
       "Tags Wikidata URL           68608\n",
       "dtype: int64"
      ]
     },
     "execution_count": 40,
     "metadata": {},
     "output_type": "execute_result"
    }
   ],
   "source": [
    "df.isna().sum()"
   ]
  },
  {
   "cell_type": "markdown",
   "metadata": {},
   "source": [
    "Some of the obvious criteria which have many missing values are 'Culture', 'Object Date'"
   ]
  },
  {
   "cell_type": "code",
   "execution_count": 41,
   "metadata": {},
   "outputs": [
    {
     "data": {
      "text/plain": [
       "89903"
      ]
     },
     "execution_count": 41,
     "metadata": {},
     "output_type": "execute_result"
    }
   ],
   "source": [
    "# we can fill missing culture values with nationality\n",
    "df['Culture'].isna().sum()"
   ]
  },
  {
   "cell_type": "code",
   "execution_count": 42,
   "metadata": {},
   "outputs": [],
   "source": [
    "df['Culture'] = df['Culture'].fillna(df['Artist Nationality'])"
   ]
  },
  {
   "cell_type": "code",
   "execution_count": 43,
   "metadata": {},
   "outputs": [
    {
     "data": {
      "text/plain": [
       "0"
      ]
     },
     "execution_count": 43,
     "metadata": {},
     "output_type": "execute_result"
    }
   ],
   "source": [
    "df['Culture'].isna().sum()"
   ]
  },
  {
   "cell_type": "code",
   "execution_count": 44,
   "metadata": {},
   "outputs": [
    {
     "data": {
      "text/plain": [
       "34                    1893–95\n",
       "111                      1894\n",
       "112                      1894\n",
       "203               ca. 1891–93\n",
       "204                  ca. 1893\n",
       "                 ...         \n",
       "484945    published 1643/1646\n",
       "484946    published 1643/1646\n",
       "484947    published 1643/1646\n",
       "484948    published 1643/1646\n",
       "484949    published 1643/1646\n",
       "Name: Object Date, Length: 106482, dtype: object"
      ]
     },
     "execution_count": 44,
     "metadata": {},
     "output_type": "execute_result"
    }
   ],
   "source": [
    "df['Object Date']"
   ]
  },
  {
   "cell_type": "markdown",
   "metadata": {},
   "source": [
    "Has beginning date - end date. Can use those columns as 'Begin'-'End' to fill missing information."
   ]
  },
  {
   "cell_type": "code",
   "execution_count": 45,
   "metadata": {},
   "outputs": [
    {
     "data": {
      "text/plain": [
       "34       1893-01-01\n",
       "111      1894-01-01\n",
       "112      1894-01-01\n",
       "203      1888-01-01\n",
       "204      1890-01-01\n",
       "            ...    \n",
       "484945          NaT\n",
       "484946          NaT\n",
       "484947          NaT\n",
       "484948          NaT\n",
       "484949          NaT\n",
       "Name: Object Begin Date, Length: 106482, dtype: datetime64[ns]"
      ]
     },
     "execution_count": 45,
     "metadata": {},
     "output_type": "execute_result"
    }
   ],
   "source": [
    "df['Object Begin Date']"
   ]
  },
  {
   "cell_type": "code",
   "execution_count": 46,
   "metadata": {},
   "outputs": [],
   "source": [
    "df['Object Date'] = df.apply(lambda row: f\"{row['Object Begin Date']} - {row['Object End Date']}\" if pd.isna(row['Object Date']) else row['Object Date'], axis=1)"
   ]
  },
  {
   "cell_type": "code",
   "execution_count": 47,
   "metadata": {},
   "outputs": [
    {
     "name": "stdout",
     "output_type": "stream",
     "text": [
      "0\n"
     ]
    },
    {
     "data": {
      "text/plain": [
       "array(['1893–95', '1894', 'ca. 1891–93', 'ca. 1893', '1850–60', '1923–24',\n",
       "       '1899–1904', '1893', 'ca. 1894–95', '1770–1870', '1712–54',\n",
       "       'ca. 1833–46', '1810–50', '1822–24', 'ca. 1670', '1810–15', '1916',\n",
       "       '1776–1883', '1876', '1847', '1716 or 1719 (edition)',\n",
       "       'ca. 1910–20', '1784', 'after 1909', 'ca. 1849–58', '1849–58',\n",
       "       '1835–65', 'ca. 1846', '1908–12', 'ca. 1890–95', '1890', '1893–96',\n",
       "       'ca. 1908', '1898–1902', '1882', '1810–65', 'ca. 1905–10',\n",
       "       '1905–15', 'ca. 1860', 'ca. 1850', 'ca. 1922', 'ca. 1900', '1912',\n",
       "       'ca. 1910', '1929', '1777 (?)', '1922', '1870–75', 'ca. 1902–10',\n",
       "       'ca. 1902', '1800–1810', '1790–1804', '1730–45', 'ca. 1895',\n",
       "       '1810–20', '1820–30', '1810–25', '1877', 'ca. 1876', 'ca. 1769',\n",
       "       'ca. 1848', '1895', 'ca. 1830', '1795–1803', 'ca. 1849',\n",
       "       'ca. 1904', '1770–90', '1815–20', 'ca. 1837', '1907–9', '1901–2',\n",
       "       'ca. 1900–1910', 'ca. 1899', 'ca. 1770–72', 'ca. 1850–56',\n",
       "       'ca. 1864', '1670–90', '1663–80', '1770–75', 'ca. 1905–20',\n",
       "       '1761–62', 'ca. 1905', 'ca. 1900–1920', 'ca. 1855', '1878–90',\n",
       "       'ca. 1840', 'ca. 1833–68', 'ca. 1905–13', '1788', '1739–75',\n",
       "       '1888', '1825–27', '1815–35', '1850', '1886–90', 'ca. 1795',\n",
       "       'after 1869', '1852–58', '1770–1810', 'ca. 1869–71'], dtype=object)"
      ]
     },
     "execution_count": 47,
     "metadata": {},
     "output_type": "execute_result"
    }
   ],
   "source": [
    "print(df['Object Date'].isna().sum())\n",
    "df['Object Date'].unique()[:100]"
   ]
  },
  {
   "cell_type": "markdown",
   "metadata": {},
   "source": [
    "One more feature with many missing values 'Gender'. It has no null values, but only has females as we saw. So male values are basically missing. So we could use some library like Gender Guesser to check 'Artist Name' column and fill the missing male values by guessing the gender by name."
   ]
  },
  {
   "cell_type": "markdown",
   "metadata": {},
   "source": [
    "## Step 7 - cleaning 'Medium'"
   ]
  },
  {
   "cell_type": "code",
   "execution_count": 48,
   "metadata": {},
   "outputs": [
    {
     "data": {
      "text/plain": [
       "34        Gold, amethysts, spessartites, tourmalines, fr...\n",
       "111                                     Bronze, glass, iron\n",
       "112                                     Bronze, glass, iron\n",
       "203       Prima vera, American ash (secondary wood); mar...\n",
       "204       Prima vera, American ash (secondary wood); mar...\n",
       "                                ...                        \n",
       "484945                                            Engraving\n",
       "484946                                            Engraving\n",
       "484947                                            Engraving\n",
       "484948                                            Engraving\n",
       "484949                                            Engraving\n",
       "Name: Medium, Length: 106482, dtype: object"
      ]
     },
     "execution_count": 48,
     "metadata": {},
     "output_type": "execute_result"
    }
   ],
   "source": [
    "df['Medium']"
   ]
  },
  {
   "cell_type": "markdown",
   "metadata": {},
   "source": [
    "Obviously NLP techniques are to be used. We will use the framework described earlier."
   ]
  },
  {
   "cell_type": "code",
   "execution_count": 49,
   "metadata": {},
   "outputs": [],
   "source": [
    "import nltk\n",
    "import string"
   ]
  },
  {
   "cell_type": "code",
   "execution_count": 50,
   "metadata": {},
   "outputs": [],
   "source": [
    "df['Medium']=df['Medium'].astype('string')"
   ]
  },
  {
   "cell_type": "code",
   "execution_count": 51,
   "metadata": {},
   "outputs": [
    {
     "data": {
      "text/plain": [
       "2301"
      ]
     },
     "execution_count": 51,
     "metadata": {},
     "output_type": "execute_result"
    }
   ],
   "source": [
    "df['Medium'].isna().sum()"
   ]
  },
  {
   "cell_type": "code",
   "execution_count": 52,
   "metadata": {},
   "outputs": [],
   "source": [
    "df['Medium'].fillna('', inplace=True)"
   ]
  },
  {
   "cell_type": "code",
   "execution_count": 53,
   "metadata": {},
   "outputs": [
    {
     "name": "stderr",
     "output_type": "stream",
     "text": [
      "100%|██████████| 106482/106482 [00:00<00:00, 227961.64it/s]\n"
     ]
    }
   ],
   "source": [
    "# %pip install tqdm\n",
    "from tqdm import tqdm\n",
    "tqdm.pandas()\n",
    "for ch in string.punctuation:\n",
    "    df['Medium'] = df['Medium'].str.replace(ch, \"\")  # remove punctuation\n",
    "\n",
    "df['Medium'] = df['Medium'].str.lower()  # make lowercase\n",
    "\n",
    "from nltk.corpus import stopwords\n",
    "noise = stopwords.words('english')\n",
    "# removing stop_words\n",
    "df['Medium'] = df['Medium'].progress_apply(lambda x: ' '.join([word for word in x.split() if word not in noise]))"
   ]
  },
  {
   "cell_type": "code",
   "execution_count": 54,
   "metadata": {},
   "outputs": [
    {
     "data": {
      "text/plain": [
       "array(['gold amethysts spessartites tourmalines fresh water pearls quartzes rock crystal enamel',\n",
       "       'bronze glass iron',\n",
       "       'prima vera american ash secondary wood marquetry various woods brass replacement upholstery',\n",
       "       ..., 'etching thin white japan paper',\n",
       "       'drypoint watercolor additions', 'etching watercolor additions'],\n",
       "      dtype=object)"
      ]
     },
     "execution_count": 54,
     "metadata": {},
     "output_type": "execute_result"
    }
   ],
   "source": [
    "df['Medium'].unique()"
   ]
  },
  {
   "cell_type": "code",
   "execution_count": 55,
   "metadata": {},
   "outputs": [
    {
     "name": "stderr",
     "output_type": "stream",
     "text": [
      "100%|██████████| 106482/106482 [00:00<00:00, 131793.04it/s]\n"
     ]
    }
   ],
   "source": [
    "tqdm.pandas()\n",
    "porter = nltk.PorterStemmer()  # lemmatization/stemming\n",
    "X_train = df['Medium'].progress_apply(lambda x: [porter.stem(y) for y in x])  # stemming each word in str"
   ]
  },
  {
   "cell_type": "code",
   "execution_count": 56,
   "metadata": {},
   "outputs": [],
   "source": [
    "from sklearn.feature_extraction.text import CountVectorizer  # exact type of vectorizer must be cross validated\n",
    "count_vectorizer = CountVectorizer(ngram_range=(1, 2)) # number of ngrams must be cross validated, will use 2 as an example\n",
    "count_vectorized_medium = count_vectorizer.fit_transform(df['Medium'])\n",
    "\n",
    "from sklearn.feature_extraction.text import TfidfVectorizer\n",
    "tfidf_vectorizer = TfidfVectorizer(ngram_range=(1, 2))\n",
    "tfidf_vectorized_x_train = tfidf_vectorizer.fit_transform(df['Medium'])"
   ]
  },
  {
   "cell_type": "markdown",
   "metadata": {},
   "source": [
    "After cross-validation we can choose the appropriate type/size of n-grams and a vectoriser. Resulting vectors then can be used by the KNN algorithm"
   ]
  },
  {
   "cell_type": "markdown",
   "metadata": {},
   "source": [
    "## Step 8 Extracting physical dimensions from 'Dimensions'"
   ]
  },
  {
   "cell_type": "code",
   "execution_count": 57,
   "metadata": {},
   "outputs": [
    {
     "data": {
      "text/plain": [
       "array(['Overall: 19 7/16 x 13 x 9 1/4 in. (49.4 x 33 x 23.5 cm); 352 oz. 18 dwt. (10977 g)\\r\\nBody: H. 18 7/8 in. (47.9 cm)\\r\\nCover: 4 1/4 x 4 13/16 in. (10.8 x 12.2 cm); 19 oz. 6 dwt. (600.1 g)',\n",
       "       '25 x 15 x 35 in. (63.5 x 38.1 x 88.9 cm)',\n",
       "       '35 5/8 x 25 1/4 x 26 1/8 in. (90.5 x 64.1 x 66.4 cm)',\n",
       "       '35 3/8 x 25 5/8 x 26 1/4 in. (89.9 x 65.1 x 66.7 cm)',\n",
       "       '50 x 26 1/2 x 23 in. (127 x 67.3 x 58.4 cm)',\n",
       "       '49 1/2 x 26 1/2 x 22 1/2 in. (125.7 x 67.3 x 57.2 cm)',\n",
       "       '132 x 102 in. (335.3 x 259.1 cm)',\n",
       "       '39 x 9 7/8 x 1 in. (99.1 x 25.1 x 2.5 cm)',\n",
       "       '10 7/8 x 31 3/4 in. (27.6 x 80.6 cm)',\n",
       "       '31 3/4 x 10 7/8 x 1 1/8 in. (80.6 x 27.6 x 2.9 cm)',\n",
       "       '34 1/2 x 10 in. (87.6 x 25.4 cm)',\n",
       "       '2 x 5 3/4 x 5 3/4 in. (5.1 x 14.6 x 14.6 cm)',\n",
       "       '2 3/4 x 12 7/8 x 12 7/8 in. (7 x 32.7 x 32.7 cm)',\n",
       "       'Overall: H. 3 7/16 in. (8.7 cm); 4 oz. 8 dwt. (137.4 g)\\r\\nLip: Diam. 3 1/16 in. (7.8 cm)\\r\\nBase: Diam. 2 1/2 in. (6.4 cm)',\n",
       "       'H. 5 1/8 in. (13 cm)',\n",
       "       'Overall: 5 3/8 in. (13.7 cm); 7 oz. 6 dwt. (227.3 g)\\r\\nLip: Diam. 4 1/8 in. (10.5 cm)\\r\\nBase: Diam. 3 7/16 in. (8.7 cm)',\n",
       "       '106 3/4 x 58 5/8 x 79 1/2 in. (271.1 x 148.9 x 201.9 cm)',\n",
       "       '17 1/2 x 27 1/2 x 16 11/16 in. (44.5 x 69.9 x 42.4 cm)',\n",
       "       '2 3/8 x 2 in. (6 x 5.1 cm)',\n",
       "       '10 x 5 5/8 x 4 5/8 in. (25.4 x 14.3 x 11.7 cm)',\n",
       "       '6 x 3 1/2 x 2 in. (15.2 x 8.9 x 5.1 cm)',\n",
       "       '14 x 9 1/2 in. (35.6 x 24.1 cm)',\n",
       "       '7 1/8 x 3 7/16 x 3 7/16 in. (18.1 x 8.7 x 8.7 cm)',\n",
       "       '13 1/2 x 17 in. (34.3 x 43.2 cm)',\n",
       "       '1 15/16 x 5 13/16 x 3 in. (4.9 x 14.8 x 7.6 cm)',\n",
       "       '18 1/4 x 12 1/8 in. (46.4 x 30.8 cm)', 'H. 19 1/16 in. (48.4 cm)',\n",
       "       'H. 10 3/4 in. (27.3 cm)',\n",
       "       'H. 4 1/8 in. (10.5 cm); Diam. 9 3/8 in. (23.8 cm)',\n",
       "       'Overall: H. 5 3/16 in. (13.2 cm); Diam. 6 3/16 in. (15.7 cm); 12 oz. 6 dwt. (383.2 g)\\r\\nFoot: 3 1/2 x 3 1/2 in. (8.9 x 8.9 cm)',\n",
       "       '2 1/4 x 4 3/4 in. (5.7 x 12.1 cm)',\n",
       "       'H. 3 5/8 in. (9.2 cm); Diam. 6 1/4 in. (15.9 cm)',\n",
       "       'H. 5 9/16 in. (14.1 cm); Diam. 11 in. (27.9 cm)',\n",
       "       'H. 6 in. (15.2 cm)', 'H. 4 1/8 in. (10.5 cm)',\n",
       "       'H. 3 5/8 in. (9.2 cm)',\n",
       "       'H. 2 1/4 in. (5.7 cm); Diam. 5 1/8 in. (13 cm)',\n",
       "       'H. 6 5/16 in. (16 cm)',\n",
       "       '6 1/8 x 9 1/2 x 9 1/2 in. (15.6 x 24.1 x 24.1 cm)',\n",
       "       'H. 2 1/4 in. (5.7 cm); Diam. 3 1/4 in. (8.3 cm)',\n",
       "       '2 1/4 x 3 11/16 x 3 11/16 in. (5.7 x 9.4 x 9.4 cm)',\n",
       "       '1 1/2 x 2 x 2 in. (3.8 x 5.1 x 5.1 cm)',\n",
       "       'H. 3 15/16 in. (10 cm); Diam. 10 in. (25.4 cm)',\n",
       "       '3 1/4 x 15 1/8 x 8 5/8 in. (8.3 x 38.4 x 21.9 cm)',\n",
       "       'H. 1 11/16 in. (4.3 cm)',\n",
       "       '1 5/8 x 2 3/8 x 2 3/8 in. (4.1 x 6 x 6 cm)',\n",
       "       '4 1/2 x 4 in. (11.4 x 10.2 cm)',\n",
       "       'Overall: 6 1/2 x 3 5/16 x 2 3/8 in. (16.5 x 8.4 x 6 cm); 12 oz. 1 dwt. (375 g)\\r\\nBody: H. 3 1/4 in. (8.3 cm); 8 oz. 5 dwt. (256.1 g)\\r\\nCover: H. 3 3/8 in. (8.6 cm); 3 oz. 16 dwt. (118.9 g)',\n",
       "       '8 x 8 in. (20.3 x 20.3 cm)',\n",
       "       'H. 8 13/16 in. (22.4 cm); Diam. 5 5/8 in. (14.3 cm)'],\n",
       "      dtype=object)"
      ]
     },
     "execution_count": 57,
     "metadata": {},
     "output_type": "execute_result"
    }
   ],
   "source": [
    "df['Dimensions'].unique()[:50]"
   ]
  },
  {
   "cell_type": "markdown",
   "metadata": {},
   "source": [
    "We need to get w x d x h in cm from it. The cm values as seen are within the ()"
   ]
  },
  {
   "cell_type": "code",
   "execution_count": 58,
   "metadata": {},
   "outputs": [],
   "source": [
    "import re"
   ]
  },
  {
   "cell_type": "markdown",
   "metadata": {},
   "source": [
    "all numbers between any any )( and 'cm'. if x ok, if /s also ok"
   ]
  },
  {
   "cell_type": "code",
   "execution_count": 59,
   "metadata": {},
   "outputs": [],
   "source": [
    "regex = r'\\(([\\d.]+)(?: x ([\\d.]+)(?: x ([\\d.]+))?)? cm\\)'"
   ]
  },
  {
   "cell_type": "code",
   "execution_count": 60,
   "metadata": {},
   "outputs": [],
   "source": [
    "def get_cm(dim):\n",
    "    if pd.isna(dim):\n",
    "        return np.nan\n",
    "    matches = re.findall(regex, dim)\n",
    "    cm_val = []\n",
    "    for match in matches:\n",
    "        numbers = [float(num) for num in match if num]\n",
    "        cm_val.extend(numbers)\n",
    "    return cm_val"
   ]
  },
  {
   "cell_type": "code",
   "execution_count": 61,
   "metadata": {},
   "outputs": [
    {
     "data": {
      "text/plain": [
       "34        Overall: 19 7/16 x 13 x 9 1/4 in. (49.4 x 33 x...\n",
       "111                25 x 15 x 35 in. (63.5 x 38.1 x 88.9 cm)\n",
       "112                25 x 15 x 35 in. (63.5 x 38.1 x 88.9 cm)\n",
       "203       35 5/8 x 25 1/4 x 26 1/8 in. (90.5 x 64.1 x 66...\n",
       "204       35 3/8 x 25 5/8 x 26 1/4 in. (89.9 x 65.1 x 66...\n",
       "                                ...                        \n",
       "484945                  8 1/16 × 9 7/8 in. (20.4 × 25.1 cm)\n",
       "484946                  8 1/16 × 9 7/8 in. (20.4 × 25.1 cm)\n",
       "484947                  8 1/16 × 9 7/8 in. (20.4 × 25.1 cm)\n",
       "484948                  8 1/16 × 9 7/8 in. (20.4 × 25.1 cm)\n",
       "484949                  8 1/16 × 9 7/8 in. (20.4 × 25.1 cm)\n",
       "Name: Dimensions, Length: 106482, dtype: object"
      ]
     },
     "execution_count": 61,
     "metadata": {},
     "output_type": "execute_result"
    }
   ],
   "source": [
    "df['Dimensions'].astype(str)"
   ]
  },
  {
   "cell_type": "code",
   "execution_count": 62,
   "metadata": {},
   "outputs": [],
   "source": [
    "df['Dimensions in cm'] = df['Dimensions'].apply(get_cm)"
   ]
  },
  {
   "cell_type": "code",
   "execution_count": 63,
   "metadata": {},
   "outputs": [
    {
     "data": {
      "text/plain": [
       "34     [49.4, 33.0, 23.5, 47.9, 10.8, 12.2]\n",
       "111                      [63.5, 38.1, 88.9]\n",
       "112                      [63.5, 38.1, 88.9]\n",
       "203                      [90.5, 64.1, 66.4]\n",
       "204                      [89.9, 65.1, 66.7]\n",
       "220                     [127.0, 67.3, 58.4]\n",
       "221                     [125.7, 67.3, 57.2]\n",
       "241                          [335.3, 259.1]\n",
       "265                       [99.1, 25.1, 2.5]\n",
       "266                            [27.6, 80.6]\n",
       "Name: Dimensions in cm, dtype: object"
      ]
     },
     "execution_count": 63,
     "metadata": {},
     "output_type": "execute_result"
    }
   ],
   "source": [
    "df['Dimensions in cm'][:10]"
   ]
  },
  {
   "cell_type": "markdown",
   "metadata": {},
   "source": [
    "Let's put two columns near each other for readability."
   ]
  },
  {
   "cell_type": "code",
   "execution_count": 64,
   "metadata": {},
   "outputs": [
    {
     "data": {
      "text/plain": [
       "32"
      ]
     },
     "execution_count": 64,
     "metadata": {},
     "output_type": "execute_result"
    }
   ],
   "source": [
    "df.columns.get_loc('Dimensions')"
   ]
  },
  {
   "cell_type": "code",
   "execution_count": 65,
   "metadata": {},
   "outputs": [
    {
     "data": {
      "text/plain": [
       "Index(['Object Number', 'Is Highlight', 'Is Timeline Work', 'Is Public Domain',\n",
       "       'Object ID', 'Gallery Number', 'Department', 'AccessionYear',\n",
       "       'Object Name', 'Title', 'Culture', 'Period', 'Dynasty', 'Reign',\n",
       "       'Portfolio', 'Constituent ID', 'Artist Role', 'Artist Prefix',\n",
       "       'Artist Display Name', 'Artist Display Bio', 'Artist Suffix',\n",
       "       'Artist Alpha Sort', 'Artist Nationality', 'Artist Begin Date',\n",
       "       'Artist End Date', 'Artist Gender', 'Artist ULAN URL',\n",
       "       'Artist Wikidata URL', 'Object Date', 'Object Begin Date',\n",
       "       'Object End Date', 'Medium', 'Dimensions', 'Dimensions in cm',\n",
       "       'Credit Line', 'Geography Type', 'City', 'State', 'County', 'Country',\n",
       "       'Region', 'Subregion', 'Locale', 'Locus', 'Excavation', 'River',\n",
       "       'Classification', 'Rights and Reproduction', 'Link Resource',\n",
       "       'Object Wikidata URL', 'Metadata Date', 'Repository', 'Tags',\n",
       "       'Tags AAT URL', 'Tags Wikidata URL'],\n",
       "      dtype='object')"
      ]
     },
     "execution_count": 65,
     "metadata": {},
     "output_type": "execute_result"
    }
   ],
   "source": [
    "col_cm = df.pop('Dimensions in cm')\n",
    "df.insert(33, 'Dimensions in cm', col_cm)\n",
    "df.columns"
   ]
  },
  {
   "cell_type": "markdown",
   "metadata": {},
   "source": [
    "## Step 5 - part 2. Outliers in 'Dimensions'/'Dimensions in cm'"
   ]
  },
  {
   "cell_type": "markdown",
   "metadata": {},
   "source": [
    "To detect the outliers we will sum the dimensions in cm and use the IQR method to detect the outliers."
   ]
  },
  {
   "cell_type": "code",
   "execution_count": 66,
   "metadata": {},
   "outputs": [
    {
     "data": {
      "text/plain": [
       "13560"
      ]
     },
     "execution_count": 66,
     "metadata": {},
     "output_type": "execute_result"
    }
   ],
   "source": [
    "df['Dimensions in cm'].isna().sum()"
   ]
  },
  {
   "cell_type": "code",
   "execution_count": 67,
   "metadata": {},
   "outputs": [],
   "source": [
    "df['Dimensions in cm'].fillna(0, inplace=True)\n",
    "df['Dimensions in cm']  = df['Dimensions in cm'].apply(lambda x: [] if x == 0 else x)"
   ]
  },
  {
   "cell_type": "code",
   "execution_count": 68,
   "metadata": {},
   "outputs": [],
   "source": [
    "Q1 = df['Dimensions in cm'].apply(lambda x: sum(x)).quantile(0.25)\n",
    "Q3 = df['Dimensions in cm'].apply(lambda x: sum(x)).quantile(0.75)\n",
    "IQR = Q3 - Q1"
   ]
  },
  {
   "cell_type": "code",
   "execution_count": 69,
   "metadata": {},
   "outputs": [
    {
     "data": {
      "text/plain": [
       "34           [49.4, 33.0, 23.5, 47.9, 10.8, 12.2]\n",
       "111                            [63.5, 38.1, 88.9]\n",
       "112                            [63.5, 38.1, 88.9]\n",
       "203                            [90.5, 64.1, 66.4]\n",
       "204                            [89.9, 65.1, 66.7]\n",
       "                           ...                   \n",
       "477425    [32.8, 129.3, 32.9, 100.5, 31.1, 189.2]\n",
       "478572            [146.0, 106.6, 23.1, 6.7, 1.27]\n",
       "481364                      [100.5, 213.5, 147.5]\n",
       "482613                                    [180.0]\n",
       "483701                   [66.0, 86.4, 48.3, 86.4]\n",
       "Name: Dimensions in cm, Length: 10056, dtype: object"
      ]
     },
     "execution_count": 69,
     "metadata": {},
     "output_type": "execute_result"
    }
   ],
   "source": [
    "low_outliers = Q1 - 1.5 * IQR\n",
    "upper_outliers = Q3 + 1.5 * IQR\n",
    "iqr_outliers = df[(df['Dimensions in cm'].apply(lambda x: sum(x)) < low_outliers) | (df['Dimensions in cm'].apply(lambda x: sum(x)) > upper_outliers)]['Dimensions in cm']\n",
    "iqr_outliers"
   ]
  }
 ],
 "metadata": {
  "deepnote": {
   "is_reactive": false
  },
  "deepnote_execution_queue": [],
  "deepnote_notebook_id": "9073ededba0643989fa17f1a82f4f1be",
  "kernelspec": {
   "display_name": "Python 3 (ipykernel)",
   "language": "python",
   "name": "python3"
  },
  "language_info": {
   "codemirror_mode": {
    "name": "ipython",
    "version": 3
   },
   "file_extension": ".py",
   "mimetype": "text/x-python",
   "name": "python",
   "nbconvert_exporter": "python",
   "pygments_lexer": "ipython3",
   "version": "3.11.5"
  }
 },
 "nbformat": 4,
 "nbformat_minor": 4
}
